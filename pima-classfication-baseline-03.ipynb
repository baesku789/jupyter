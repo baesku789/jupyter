{
 "cells": [
  {
   "cell_type": "markdown",
   "metadata": {},
   "source": [
    "# 데이터셋 출처\n",
    "   + https://www.kaggle.com/uciml/pima-indians-diabetes-database"
   ]
  },
  {
   "cell_type": "markdown",
   "metadata": {},
   "source": [
    "## 데이터 구성\n",
    "\n",
    "   + Pregnancies : 임신 횟수\n",
    "   + Glucose : 2시간 동안의 경구 포도당 내성 검사에서 혈장 포도당 농도\n",
    "   + BloodPressure : 이완기 혈압 (mm Hg)\n",
    "   + SkinThickness : 삼두근 피부 주름 두께 (mm), 체지방을 추정하는데 사용되는 값\n",
    "   + Insulin : 2시간 혈청 인슐린 (mu U / ml)\n",
    "   + BMI : 체질량 지수 (체중kg / 키(m)^2)\n",
    "   + DiabetesPedigreeFunction : 당뇨병 혈통 기능\n",
    "   + Age : 나이\n",
    "   + Outcome : 768개 중에 268개의 결과 클래스 변수(0 또는 1)는 1이고 나머지는 0입니다.\n"
   ]
  },
  {
   "cell_type": "markdown",
   "metadata": {},
   "source": [
    "# 필요한 라이브러리 로드"
   ]
  },
  {
   "cell_type": "code",
   "execution_count": 42,
   "metadata": {},
   "outputs": [],
   "source": [
    "# 데이터 분석을 위한 pandas, 수치계산을 위한 numpy\n",
    "# 시각화를 위한 seaborn, matplotlib.pyplot 을 로드합니다.\n",
    "\n",
    "import pandas as pd\n",
    "import numpy as np\n",
    "import seaborn as sns\n",
    "import matplotlib.pyplot as plt"
   ]
  },
  {
   "cell_type": "markdown",
   "metadata": {},
   "source": [
    "# 데이터셋 로드"
   ]
  },
  {
   "cell_type": "code",
   "execution_count": 43,
   "metadata": {},
   "outputs": [
    {
     "data": {
      "text/plain": [
       "(768, 16)"
      ]
     },
     "execution_count": 43,
     "metadata": {},
     "output_type": "execute_result"
    }
   ],
   "source": [
    "df = pd.read_csv(\"diabetes_feature.csv\")\n",
    "df.shape"
   ]
  },
  {
   "cell_type": "markdown",
   "metadata": {},
   "source": [
    "# 학습,예측 데이터 만들기"
   ]
  },
  {
   "cell_type": "code",
   "execution_count": 44,
   "metadata": {},
   "outputs": [
    {
     "data": {
      "text/plain": [
       "Index(['Pregnancies', 'Glucose', 'BloodPressure', 'SkinThickness', 'Insulin',\n",
       "       'BMI', 'DiabetesPedigreeFunction', 'Age', 'Outcome', 'Pregnancies_high',\n",
       "       'Age_low', 'Age_middle', 'Age_high', 'Insulin_nan', 'Insulin_log',\n",
       "       'low_glu_Insulin'],\n",
       "      dtype='object')"
      ]
     },
     "execution_count": 44,
     "metadata": {},
     "output_type": "execute_result"
    }
   ],
   "source": [
    "df.columns"
   ]
  },
  {
   "cell_type": "code",
   "execution_count": 45,
   "metadata": {},
   "outputs": [
    {
     "data": {
      "text/plain": [
       "(768, 9)"
      ]
     },
     "execution_count": 45,
     "metadata": {},
     "output_type": "execute_result"
    }
   ],
   "source": [
    "X = df[['Glucose', 'BloodPressure', 'SkinThickness',\n",
    "    'BMI', 'DiabetesPedigreeFunction', 'Age', 'Pregnancies_high',\n",
    "    'Insulin_nan', 'low_glu_Insulin']]\n",
    "X.shape"
   ]
  },
  {
   "cell_type": "code",
   "execution_count": 46,
   "metadata": {},
   "outputs": [
    {
     "data": {
      "text/plain": [
       "(768,)"
      ]
     },
     "execution_count": 46,
     "metadata": {},
     "output_type": "execute_result"
    }
   ],
   "source": [
    "y = df[\"Outcome\"]\n",
    "y.shape"
   ]
  },
  {
   "cell_type": "code",
   "execution_count": 47,
   "metadata": {},
   "outputs": [],
   "source": [
    "# 사이킷런에서 제공하는 model_selection 의 train_test_split 으로 만듭니다.\n",
    "\n",
    "from sklearn.model_selection import train_test_split\n",
    "\n",
    "X_train, X_test, y_train, y_test = train_test_split(\n",
    "    X,y, test_size=0.2, random_state=42)"
   ]
  },
  {
   "cell_type": "code",
   "execution_count": 48,
   "metadata": {},
   "outputs": [
    {
     "data": {
      "text/plain": [
       "((614, 9), (614,))"
      ]
     },
     "execution_count": 48,
     "metadata": {},
     "output_type": "execute_result"
    }
   ],
   "source": [
    "# train 세트의 문제와 정답의 데이터 수를 확인해 주세요.\n",
    "\n",
    "X_train.shape, y_train.shape"
   ]
  },
  {
   "cell_type": "code",
   "execution_count": 49,
   "metadata": {},
   "outputs": [
    {
     "data": {
      "text/plain": [
       "((154, 9), (154,))"
      ]
     },
     "execution_count": 49,
     "metadata": {},
     "output_type": "execute_result"
    }
   ],
   "source": [
    "# test 세트의 문제와 정답을 확인해 주세요.\n",
    "\n",
    "X_test.shape, y_test.shape"
   ]
  },
  {
   "cell_type": "markdown",
   "metadata": {},
   "source": [
    "# 머신러닝 알고리즘 사용하기"
   ]
  },
  {
   "cell_type": "code",
   "execution_count": 90,
   "metadata": {},
   "outputs": [
    {
     "data": {
      "text/plain": [
       "DecisionTreeClassifier(max_depth=11, random_state=42)"
      ]
     },
     "execution_count": 90,
     "metadata": {},
     "output_type": "execute_result"
    }
   ],
   "source": [
    "# DecisionTree 를 불러옵니다.\n",
    "\n",
    "from sklearn.tree import DecisionTreeClassifier\n",
    "model = DecisionTreeClassifier(max_depth=11, random_state=42)\n",
    "model"
   ]
  },
  {
   "cell_type": "markdown",
   "metadata": {},
   "source": [
    "## 최적의 max_depth 값 찾기"
   ]
  },
  {
   "cell_type": "code",
   "execution_count": 54,
   "metadata": {},
   "outputs": [
    {
     "name": "stdout",
     "output_type": "stream",
     "text": [
      "3 85.06493506493507\n",
      "4 87.66233766233766\n",
      "5 85.71428571428571\n",
      "6 81.81818181818183\n",
      "7 81.81818181818183\n",
      "8 81.81818181818183\n",
      "9 83.76623376623377\n",
      "10 79.22077922077922\n",
      "11 81.81818181818183\n"
     ]
    }
   ],
   "source": [
    "from sklearn.metrics import accuracy_score\n",
    "\n",
    "for max_depth in range(3, 12):\n",
    "    model = DecisionTreeClassifier(max_depth=max_depth, random_state=42)\n",
    "    y_predict = model.fit(X_train, y_train).predict(X_test)\n",
    "    score = accuracy_score(y_test, y_predict) * 100\n",
    "    print(max_depth, score)"
   ]
  },
  {
   "cell_type": "markdown",
   "metadata": {},
   "source": [
    "## bagging"
   ]
  },
  {
   "cell_type": "code",
   "execution_count": 97,
   "metadata": {},
   "outputs": [
    {
     "data": {
      "text/plain": [
       "RandomForestClassifier(random_state=42)"
      ]
     },
     "execution_count": 97,
     "metadata": {},
     "output_type": "execute_result"
    }
   ],
   "source": [
    "# from sklearn.ensemble import RandomForestClassifier\n",
    "\n",
    "# model = RandomForestClassifier(random_state=42)\n",
    "# model"
   ]
  },
  {
   "cell_type": "markdown",
   "metadata": {},
   "source": [
    "## Boosting"
   ]
  },
  {
   "cell_type": "code",
   "execution_count": 115,
   "metadata": {},
   "outputs": [],
   "source": [
    "from sklearn.ensemble import GradientBoostingClassifier\n",
    "\n",
    "model = GradientBoostingClassifier()\n",
    "model?"
   ]
  },
  {
   "cell_type": "code",
   "execution_count": null,
   "metadata": {},
   "outputs": [],
   "source": []
  },
  {
   "cell_type": "code",
   "execution_count": null,
   "metadata": {},
   "outputs": [],
   "source": []
  },
  {
   "cell_type": "code",
   "execution_count": null,
   "metadata": {},
   "outputs": [],
   "source": []
  },
  {
   "cell_type": "code",
   "execution_count": null,
   "metadata": {},
   "outputs": [],
   "source": []
  },
  {
   "cell_type": "code",
   "execution_count": null,
   "metadata": {},
   "outputs": [],
   "source": []
  },
  {
   "cell_type": "code",
   "execution_count": null,
   "metadata": {},
   "outputs": [],
   "source": []
  },
  {
   "cell_type": "code",
   "execution_count": null,
   "metadata": {},
   "outputs": [],
   "source": []
  },
  {
   "cell_type": "markdown",
   "metadata": {},
   "source": [
    "# Grid Search"
   ]
  },
  {
   "cell_type": "markdown",
   "metadata": {},
   "source": [
    "   + https://sklearn.org/modules/cross_validation.html#cross-validation\n",
    "   + https://scikit-learn.org/stable/modules/generated/sklearn.model_selection.GridSearchCV.html"
   ]
  },
  {
   "cell_type": "code",
   "execution_count": 55,
   "metadata": {},
   "outputs": [
    {
     "name": "stdout",
     "output_type": "stream",
     "text": [
      "Fitting 5 folds for each of 45 candidates, totalling 225 fits\n"
     ]
    },
    {
     "name": "stderr",
     "output_type": "stream",
     "text": [
      "[Parallel(n_jobs=-1)]: Using backend LokyBackend with 6 concurrent workers.\n",
      "[Parallel(n_jobs=-1)]: Done  38 tasks      | elapsed:    5.4s\n",
      "[Parallel(n_jobs=-1)]: Done 214 out of 225 | elapsed:    5.7s remaining:    0.2s\n",
      "[Parallel(n_jobs=-1)]: Done 225 out of 225 | elapsed:    5.7s finished\n"
     ]
    },
    {
     "data": {
      "text/plain": [
       "GridSearchCV(cv=5, estimator=DecisionTreeClassifier(random_state=42), n_jobs=-1,\n",
       "             param_grid={'max_depth': range(3, 12),\n",
       "                         'max_features': [0.3, 0.5, 0.7, 0.9, 1]},\n",
       "             verbose=1)"
      ]
     },
     "execution_count": 55,
     "metadata": {},
     "output_type": "execute_result"
    }
   ],
   "source": [
    "from sklearn.model_selection import GridSearchCV\n",
    "\n",
    "model = DecisionTreeClassifier(random_state=42)\n",
    "param_grid = {\"max_depth\" : range(3,12), \n",
    "              \"max_features\": [0.3, 0.5, 0.7, 0.9, 1]}\n",
    "clf = GridSearchCV(model, param_grid=param_grid, n_jobs=-1, cv=5, verbose=1)\n",
    "clf.fit(X_train, y_train)"
   ]
  },
  {
   "cell_type": "code",
   "execution_count": 56,
   "metadata": {},
   "outputs": [
    {
     "data": {
      "text/plain": [
       "{'max_depth': 5, 'max_features': 0.7}"
      ]
     },
     "execution_count": 56,
     "metadata": {},
     "output_type": "execute_result"
    }
   ],
   "source": [
    "clf.best_params_"
   ]
  },
  {
   "cell_type": "code",
   "execution_count": 57,
   "metadata": {},
   "outputs": [
    {
     "data": {
      "text/plain": [
       "DecisionTreeClassifier(max_depth=5, max_features=0.7, random_state=42)"
      ]
     },
     "execution_count": 57,
     "metadata": {},
     "output_type": "execute_result"
    }
   ],
   "source": [
    "clf.best_estimator_"
   ]
  },
  {
   "cell_type": "code",
   "execution_count": 58,
   "metadata": {},
   "outputs": [
    {
     "data": {
      "text/plain": [
       "0.8664934026389444"
      ]
     },
     "execution_count": 58,
     "metadata": {},
     "output_type": "execute_result"
    }
   ],
   "source": [
    "clf.best_score_"
   ]
  },
  {
   "cell_type": "code",
   "execution_count": 59,
   "metadata": {},
   "outputs": [
    {
     "data": {
      "text/html": [
       "<div>\n",
       "<style scoped>\n",
       "    .dataframe tbody tr th:only-of-type {\n",
       "        vertical-align: middle;\n",
       "    }\n",
       "\n",
       "    .dataframe tbody tr th {\n",
       "        vertical-align: top;\n",
       "    }\n",
       "\n",
       "    .dataframe thead th {\n",
       "        text-align: right;\n",
       "    }\n",
       "</style>\n",
       "<table border=\"1\" class=\"dataframe\">\n",
       "  <thead>\n",
       "    <tr style=\"text-align: right;\">\n",
       "      <th></th>\n",
       "      <th>mean_fit_time</th>\n",
       "      <th>std_fit_time</th>\n",
       "      <th>mean_score_time</th>\n",
       "      <th>std_score_time</th>\n",
       "      <th>param_max_depth</th>\n",
       "      <th>param_max_features</th>\n",
       "      <th>params</th>\n",
       "      <th>split0_test_score</th>\n",
       "      <th>split1_test_score</th>\n",
       "      <th>split2_test_score</th>\n",
       "      <th>split3_test_score</th>\n",
       "      <th>split4_test_score</th>\n",
       "      <th>mean_test_score</th>\n",
       "      <th>std_test_score</th>\n",
       "      <th>rank_test_score</th>\n",
       "    </tr>\n",
       "  </thead>\n",
       "  <tbody>\n",
       "    <tr>\n",
       "      <th>12</th>\n",
       "      <td>0.004188</td>\n",
       "      <td>3.987802e-04</td>\n",
       "      <td>0.002194</td>\n",
       "      <td>3.989707e-04</td>\n",
       "      <td>5</td>\n",
       "      <td>0.7</td>\n",
       "      <td>{'max_depth': 5, 'max_features': 0.7}</td>\n",
       "      <td>0.878049</td>\n",
       "      <td>0.910569</td>\n",
       "      <td>0.813008</td>\n",
       "      <td>0.837398</td>\n",
       "      <td>0.893443</td>\n",
       "      <td>0.866493</td>\n",
       "      <td>0.036082</td>\n",
       "      <td>1</td>\n",
       "    </tr>\n",
       "    <tr>\n",
       "      <th>7</th>\n",
       "      <td>0.004787</td>\n",
       "      <td>1.162034e-03</td>\n",
       "      <td>0.003391</td>\n",
       "      <td>3.313480e-03</td>\n",
       "      <td>4</td>\n",
       "      <td>0.7</td>\n",
       "      <td>{'max_depth': 4, 'max_features': 0.7}</td>\n",
       "      <td>0.813008</td>\n",
       "      <td>0.886179</td>\n",
       "      <td>0.829268</td>\n",
       "      <td>0.861789</td>\n",
       "      <td>0.918033</td>\n",
       "      <td>0.861655</td>\n",
       "      <td>0.037935</td>\n",
       "      <td>2</td>\n",
       "    </tr>\n",
       "    <tr>\n",
       "      <th>8</th>\n",
       "      <td>0.003989</td>\n",
       "      <td>4.909339e-07</td>\n",
       "      <td>0.002792</td>\n",
       "      <td>1.595260e-03</td>\n",
       "      <td>4</td>\n",
       "      <td>0.9</td>\n",
       "      <td>{'max_depth': 4, 'max_features': 0.9}</td>\n",
       "      <td>0.821138</td>\n",
       "      <td>0.886179</td>\n",
       "      <td>0.853659</td>\n",
       "      <td>0.853659</td>\n",
       "      <td>0.893443</td>\n",
       "      <td>0.861615</td>\n",
       "      <td>0.026005</td>\n",
       "      <td>3</td>\n",
       "    </tr>\n",
       "    <tr>\n",
       "      <th>18</th>\n",
       "      <td>0.004188</td>\n",
       "      <td>3.996153e-04</td>\n",
       "      <td>0.001596</td>\n",
       "      <td>4.883637e-04</td>\n",
       "      <td>6</td>\n",
       "      <td>0.9</td>\n",
       "      <td>{'max_depth': 6, 'max_features': 0.9}</td>\n",
       "      <td>0.829268</td>\n",
       "      <td>0.894309</td>\n",
       "      <td>0.821138</td>\n",
       "      <td>0.878049</td>\n",
       "      <td>0.877049</td>\n",
       "      <td>0.859963</td>\n",
       "      <td>0.029149</td>\n",
       "      <td>4</td>\n",
       "    </tr>\n",
       "    <tr>\n",
       "      <th>27</th>\n",
       "      <td>0.003989</td>\n",
       "      <td>7.072638e-07</td>\n",
       "      <td>0.001597</td>\n",
       "      <td>4.880916e-04</td>\n",
       "      <td>8</td>\n",
       "      <td>0.7</td>\n",
       "      <td>{'max_depth': 8, 'max_features': 0.7}</td>\n",
       "      <td>0.861789</td>\n",
       "      <td>0.878049</td>\n",
       "      <td>0.837398</td>\n",
       "      <td>0.853659</td>\n",
       "      <td>0.860656</td>\n",
       "      <td>0.858310</td>\n",
       "      <td>0.013162</td>\n",
       "      <td>5</td>\n",
       "    </tr>\n",
       "    <tr>\n",
       "      <th>17</th>\n",
       "      <td>0.004188</td>\n",
       "      <td>3.993051e-04</td>\n",
       "      <td>0.001596</td>\n",
       "      <td>4.891039e-04</td>\n",
       "      <td>6</td>\n",
       "      <td>0.7</td>\n",
       "      <td>{'max_depth': 6, 'max_features': 0.7}</td>\n",
       "      <td>0.861789</td>\n",
       "      <td>0.869919</td>\n",
       "      <td>0.804878</td>\n",
       "      <td>0.894309</td>\n",
       "      <td>0.860656</td>\n",
       "      <td>0.858310</td>\n",
       "      <td>0.029337</td>\n",
       "      <td>5</td>\n",
       "    </tr>\n",
       "    <tr>\n",
       "      <th>31</th>\n",
       "      <td>0.004787</td>\n",
       "      <td>1.162630e-03</td>\n",
       "      <td>0.001995</td>\n",
       "      <td>9.818678e-07</td>\n",
       "      <td>9</td>\n",
       "      <td>0.5</td>\n",
       "      <td>{'max_depth': 9, 'max_features': 0.5}</td>\n",
       "      <td>0.853659</td>\n",
       "      <td>0.902439</td>\n",
       "      <td>0.780488</td>\n",
       "      <td>0.861789</td>\n",
       "      <td>0.885246</td>\n",
       "      <td>0.856724</td>\n",
       "      <td>0.041834</td>\n",
       "      <td>7</td>\n",
       "    </tr>\n",
       "    <tr>\n",
       "      <th>11</th>\n",
       "      <td>0.004587</td>\n",
       "      <td>7.979516e-04</td>\n",
       "      <td>0.001995</td>\n",
       "      <td>7.008046e-07</td>\n",
       "      <td>5</td>\n",
       "      <td>0.5</td>\n",
       "      <td>{'max_depth': 5, 'max_features': 0.5}</td>\n",
       "      <td>0.837398</td>\n",
       "      <td>0.878049</td>\n",
       "      <td>0.821138</td>\n",
       "      <td>0.878049</td>\n",
       "      <td>0.868852</td>\n",
       "      <td>0.856697</td>\n",
       "      <td>0.023222</td>\n",
       "      <td>8</td>\n",
       "    </tr>\n",
       "    <tr>\n",
       "      <th>1</th>\n",
       "      <td>0.003990</td>\n",
       "      <td>6.315810e-04</td>\n",
       "      <td>0.002593</td>\n",
       "      <td>7.975819e-04</td>\n",
       "      <td>3</td>\n",
       "      <td>0.5</td>\n",
       "      <td>{'max_depth': 3, 'max_features': 0.5}</td>\n",
       "      <td>0.780488</td>\n",
       "      <td>0.910569</td>\n",
       "      <td>0.813008</td>\n",
       "      <td>0.853659</td>\n",
       "      <td>0.918033</td>\n",
       "      <td>0.855151</td>\n",
       "      <td>0.053625</td>\n",
       "      <td>9</td>\n",
       "    </tr>\n",
       "    <tr>\n",
       "      <th>6</th>\n",
       "      <td>0.003989</td>\n",
       "      <td>8.449576e-07</td>\n",
       "      <td>0.001795</td>\n",
       "      <td>3.980645e-04</td>\n",
       "      <td>4</td>\n",
       "      <td>0.5</td>\n",
       "      <td>{'max_depth': 4, 'max_features': 0.5}</td>\n",
       "      <td>0.788618</td>\n",
       "      <td>0.886179</td>\n",
       "      <td>0.804878</td>\n",
       "      <td>0.878049</td>\n",
       "      <td>0.918033</td>\n",
       "      <td>0.855151</td>\n",
       "      <td>0.049790</td>\n",
       "      <td>9</td>\n",
       "    </tr>\n",
       "    <tr>\n",
       "      <th>21</th>\n",
       "      <td>0.003989</td>\n",
       "      <td>6.315075e-04</td>\n",
       "      <td>0.001995</td>\n",
       "      <td>5.519789e-07</td>\n",
       "      <td>7</td>\n",
       "      <td>0.5</td>\n",
       "      <td>{'max_depth': 7, 'max_features': 0.5}</td>\n",
       "      <td>0.845528</td>\n",
       "      <td>0.886179</td>\n",
       "      <td>0.821138</td>\n",
       "      <td>0.853659</td>\n",
       "      <td>0.860656</td>\n",
       "      <td>0.853432</td>\n",
       "      <td>0.021118</td>\n",
       "      <td>11</td>\n",
       "    </tr>\n",
       "    <tr>\n",
       "      <th>23</th>\n",
       "      <td>0.003989</td>\n",
       "      <td>6.306764e-04</td>\n",
       "      <td>0.001596</td>\n",
       "      <td>4.880328e-04</td>\n",
       "      <td>7</td>\n",
       "      <td>0.9</td>\n",
       "      <td>{'max_depth': 7, 'max_features': 0.9}</td>\n",
       "      <td>0.829268</td>\n",
       "      <td>0.902439</td>\n",
       "      <td>0.829268</td>\n",
       "      <td>0.853659</td>\n",
       "      <td>0.852459</td>\n",
       "      <td>0.853419</td>\n",
       "      <td>0.026722</td>\n",
       "      <td>12</td>\n",
       "    </tr>\n",
       "    <tr>\n",
       "      <th>28</th>\n",
       "      <td>0.004388</td>\n",
       "      <td>7.976534e-04</td>\n",
       "      <td>0.001995</td>\n",
       "      <td>8.120244e-07</td>\n",
       "      <td>8</td>\n",
       "      <td>0.9</td>\n",
       "      <td>{'max_depth': 8, 'max_features': 0.9}</td>\n",
       "      <td>0.861789</td>\n",
       "      <td>0.853659</td>\n",
       "      <td>0.821138</td>\n",
       "      <td>0.853659</td>\n",
       "      <td>0.868852</td>\n",
       "      <td>0.851819</td>\n",
       "      <td>0.016356</td>\n",
       "      <td>13</td>\n",
       "    </tr>\n",
       "    <tr>\n",
       "      <th>36</th>\n",
       "      <td>0.003989</td>\n",
       "      <td>1.138433e-06</td>\n",
       "      <td>0.001596</td>\n",
       "      <td>4.888310e-04</td>\n",
       "      <td>10</td>\n",
       "      <td>0.5</td>\n",
       "      <td>{'max_depth': 10, 'max_features': 0.5}</td>\n",
       "      <td>0.853659</td>\n",
       "      <td>0.894309</td>\n",
       "      <td>0.780488</td>\n",
       "      <td>0.861789</td>\n",
       "      <td>0.868852</td>\n",
       "      <td>0.851819</td>\n",
       "      <td>0.038174</td>\n",
       "      <td>13</td>\n",
       "    </tr>\n",
       "    <tr>\n",
       "      <th>32</th>\n",
       "      <td>0.004189</td>\n",
       "      <td>9.773113e-04</td>\n",
       "      <td>0.001796</td>\n",
       "      <td>3.981116e-04</td>\n",
       "      <td>9</td>\n",
       "      <td>0.7</td>\n",
       "      <td>{'max_depth': 9, 'max_features': 0.7}</td>\n",
       "      <td>0.821138</td>\n",
       "      <td>0.878049</td>\n",
       "      <td>0.861789</td>\n",
       "      <td>0.853659</td>\n",
       "      <td>0.844262</td>\n",
       "      <td>0.851779</td>\n",
       "      <td>0.018917</td>\n",
       "      <td>15</td>\n",
       "    </tr>\n",
       "    <tr>\n",
       "      <th>22</th>\n",
       "      <td>0.004187</td>\n",
       "      <td>4.006659e-04</td>\n",
       "      <td>0.001995</td>\n",
       "      <td>6.316559e-04</td>\n",
       "      <td>7</td>\n",
       "      <td>0.7</td>\n",
       "      <td>{'max_depth': 7, 'max_features': 0.7}</td>\n",
       "      <td>0.804878</td>\n",
       "      <td>0.853659</td>\n",
       "      <td>0.804878</td>\n",
       "      <td>0.869919</td>\n",
       "      <td>0.918033</td>\n",
       "      <td>0.850273</td>\n",
       "      <td>0.042685</td>\n",
       "      <td>16</td>\n",
       "    </tr>\n",
       "    <tr>\n",
       "      <th>38</th>\n",
       "      <td>0.005385</td>\n",
       "      <td>1.739703e-03</td>\n",
       "      <td>0.010372</td>\n",
       "      <td>1.576431e-02</td>\n",
       "      <td>10</td>\n",
       "      <td>0.9</td>\n",
       "      <td>{'max_depth': 10, 'max_features': 0.9}</td>\n",
       "      <td>0.821138</td>\n",
       "      <td>0.878049</td>\n",
       "      <td>0.796748</td>\n",
       "      <td>0.878049</td>\n",
       "      <td>0.860656</td>\n",
       "      <td>0.846928</td>\n",
       "      <td>0.032584</td>\n",
       "      <td>17</td>\n",
       "    </tr>\n",
       "    <tr>\n",
       "      <th>43</th>\n",
       "      <td>0.005186</td>\n",
       "      <td>1.163220e-03</td>\n",
       "      <td>0.002593</td>\n",
       "      <td>4.896918e-04</td>\n",
       "      <td>11</td>\n",
       "      <td>0.9</td>\n",
       "      <td>{'max_depth': 11, 'max_features': 0.9}</td>\n",
       "      <td>0.821138</td>\n",
       "      <td>0.878049</td>\n",
       "      <td>0.796748</td>\n",
       "      <td>0.878049</td>\n",
       "      <td>0.860656</td>\n",
       "      <td>0.846928</td>\n",
       "      <td>0.032584</td>\n",
       "      <td>17</td>\n",
       "    </tr>\n",
       "    <tr>\n",
       "      <th>13</th>\n",
       "      <td>0.004388</td>\n",
       "      <td>4.891425e-04</td>\n",
       "      <td>0.001995</td>\n",
       "      <td>8.203817e-07</td>\n",
       "      <td>5</td>\n",
       "      <td>0.9</td>\n",
       "      <td>{'max_depth': 5, 'max_features': 0.9}</td>\n",
       "      <td>0.853659</td>\n",
       "      <td>0.878049</td>\n",
       "      <td>0.788618</td>\n",
       "      <td>0.853659</td>\n",
       "      <td>0.852459</td>\n",
       "      <td>0.845289</td>\n",
       "      <td>0.029921</td>\n",
       "      <td>19</td>\n",
       "    </tr>\n",
       "    <tr>\n",
       "      <th>37</th>\n",
       "      <td>0.003790</td>\n",
       "      <td>3.987551e-04</td>\n",
       "      <td>0.001795</td>\n",
       "      <td>3.989467e-04</td>\n",
       "      <td>10</td>\n",
       "      <td>0.7</td>\n",
       "      <td>{'max_depth': 10, 'max_features': 0.7}</td>\n",
       "      <td>0.829268</td>\n",
       "      <td>0.845528</td>\n",
       "      <td>0.829268</td>\n",
       "      <td>0.853659</td>\n",
       "      <td>0.860656</td>\n",
       "      <td>0.843676</td>\n",
       "      <td>0.012701</td>\n",
       "      <td>20</td>\n",
       "    </tr>\n",
       "    <tr>\n",
       "      <th>33</th>\n",
       "      <td>0.005385</td>\n",
       "      <td>1.954437e-03</td>\n",
       "      <td>0.001596</td>\n",
       "      <td>4.885585e-04</td>\n",
       "      <td>9</td>\n",
       "      <td>0.9</td>\n",
       "      <td>{'max_depth': 9, 'max_features': 0.9}</td>\n",
       "      <td>0.829268</td>\n",
       "      <td>0.845528</td>\n",
       "      <td>0.796748</td>\n",
       "      <td>0.878049</td>\n",
       "      <td>0.860656</td>\n",
       "      <td>0.842050</td>\n",
       "      <td>0.027820</td>\n",
       "      <td>21</td>\n",
       "    </tr>\n",
       "    <tr>\n",
       "      <th>16</th>\n",
       "      <td>0.003989</td>\n",
       "      <td>8.064048e-07</td>\n",
       "      <td>0.001397</td>\n",
       "      <td>4.879747e-04</td>\n",
       "      <td>6</td>\n",
       "      <td>0.5</td>\n",
       "      <td>{'max_depth': 6, 'max_features': 0.5}</td>\n",
       "      <td>0.796748</td>\n",
       "      <td>0.910569</td>\n",
       "      <td>0.772358</td>\n",
       "      <td>0.861789</td>\n",
       "      <td>0.860656</td>\n",
       "      <td>0.840424</td>\n",
       "      <td>0.049652</td>\n",
       "      <td>22</td>\n",
       "    </tr>\n",
       "    <tr>\n",
       "      <th>42</th>\n",
       "      <td>0.004389</td>\n",
       "      <td>4.882289e-04</td>\n",
       "      <td>0.001994</td>\n",
       "      <td>2.123934e-06</td>\n",
       "      <td>11</td>\n",
       "      <td>0.7</td>\n",
       "      <td>{'max_depth': 11, 'max_features': 0.7}</td>\n",
       "      <td>0.829268</td>\n",
       "      <td>0.845528</td>\n",
       "      <td>0.829268</td>\n",
       "      <td>0.853659</td>\n",
       "      <td>0.844262</td>\n",
       "      <td>0.840397</td>\n",
       "      <td>0.009642</td>\n",
       "      <td>23</td>\n",
       "    </tr>\n",
       "    <tr>\n",
       "      <th>35</th>\n",
       "      <td>0.003391</td>\n",
       "      <td>4.886005e-04</td>\n",
       "      <td>0.001794</td>\n",
       "      <td>3.984224e-04</td>\n",
       "      <td>10</td>\n",
       "      <td>0.3</td>\n",
       "      <td>{'max_depth': 10, 'max_features': 0.3}</td>\n",
       "      <td>0.788618</td>\n",
       "      <td>0.918699</td>\n",
       "      <td>0.780488</td>\n",
       "      <td>0.869919</td>\n",
       "      <td>0.844262</td>\n",
       "      <td>0.840397</td>\n",
       "      <td>0.051552</td>\n",
       "      <td>23</td>\n",
       "    </tr>\n",
       "    <tr>\n",
       "      <th>41</th>\n",
       "      <td>0.004388</td>\n",
       "      <td>1.016411e-03</td>\n",
       "      <td>0.001995</td>\n",
       "      <td>6.312037e-04</td>\n",
       "      <td>11</td>\n",
       "      <td>0.5</td>\n",
       "      <td>{'max_depth': 11, 'max_features': 0.5}</td>\n",
       "      <td>0.837398</td>\n",
       "      <td>0.837398</td>\n",
       "      <td>0.780488</td>\n",
       "      <td>0.869919</td>\n",
       "      <td>0.868852</td>\n",
       "      <td>0.838811</td>\n",
       "      <td>0.032483</td>\n",
       "      <td>25</td>\n",
       "    </tr>\n",
       "    <tr>\n",
       "      <th>20</th>\n",
       "      <td>0.004389</td>\n",
       "      <td>1.353530e-03</td>\n",
       "      <td>0.001995</td>\n",
       "      <td>1.154301e-06</td>\n",
       "      <td>7</td>\n",
       "      <td>0.3</td>\n",
       "      <td>{'max_depth': 7, 'max_features': 0.3}</td>\n",
       "      <td>0.813008</td>\n",
       "      <td>0.861789</td>\n",
       "      <td>0.813008</td>\n",
       "      <td>0.821138</td>\n",
       "      <td>0.868852</td>\n",
       "      <td>0.835559</td>\n",
       "      <td>0.024582</td>\n",
       "      <td>26</td>\n",
       "    </tr>\n",
       "    <tr>\n",
       "      <th>26</th>\n",
       "      <td>0.005785</td>\n",
       "      <td>4.106683e-03</td>\n",
       "      <td>0.001795</td>\n",
       "      <td>3.988525e-04</td>\n",
       "      <td>8</td>\n",
       "      <td>0.5</td>\n",
       "      <td>{'max_depth': 8, 'max_features': 0.5}</td>\n",
       "      <td>0.869919</td>\n",
       "      <td>0.861789</td>\n",
       "      <td>0.780488</td>\n",
       "      <td>0.837398</td>\n",
       "      <td>0.827869</td>\n",
       "      <td>0.835492</td>\n",
       "      <td>0.031508</td>\n",
       "      <td>27</td>\n",
       "    </tr>\n",
       "    <tr>\n",
       "      <th>3</th>\n",
       "      <td>0.003990</td>\n",
       "      <td>8.918038e-04</td>\n",
       "      <td>0.001994</td>\n",
       "      <td>6.641573e-07</td>\n",
       "      <td>3</td>\n",
       "      <td>0.9</td>\n",
       "      <td>{'max_depth': 3, 'max_features': 0.9}</td>\n",
       "      <td>0.788618</td>\n",
       "      <td>0.902439</td>\n",
       "      <td>0.804878</td>\n",
       "      <td>0.813008</td>\n",
       "      <td>0.819672</td>\n",
       "      <td>0.825723</td>\n",
       "      <td>0.039736</td>\n",
       "      <td>28</td>\n",
       "    </tr>\n",
       "    <tr>\n",
       "      <th>2</th>\n",
       "      <td>0.004388</td>\n",
       "      <td>4.884612e-04</td>\n",
       "      <td>0.002394</td>\n",
       "      <td>4.881311e-04</td>\n",
       "      <td>3</td>\n",
       "      <td>0.7</td>\n",
       "      <td>{'max_depth': 3, 'max_features': 0.7}</td>\n",
       "      <td>0.780488</td>\n",
       "      <td>0.902439</td>\n",
       "      <td>0.804878</td>\n",
       "      <td>0.788618</td>\n",
       "      <td>0.844262</td>\n",
       "      <td>0.824137</td>\n",
       "      <td>0.044887</td>\n",
       "      <td>29</td>\n",
       "    </tr>\n",
       "    <tr>\n",
       "      <th>5</th>\n",
       "      <td>0.003590</td>\n",
       "      <td>4.895516e-04</td>\n",
       "      <td>0.002394</td>\n",
       "      <td>4.890651e-04</td>\n",
       "      <td>4</td>\n",
       "      <td>0.3</td>\n",
       "      <td>{'max_depth': 4, 'max_features': 0.3}</td>\n",
       "      <td>0.821138</td>\n",
       "      <td>0.894309</td>\n",
       "      <td>0.756098</td>\n",
       "      <td>0.813008</td>\n",
       "      <td>0.836066</td>\n",
       "      <td>0.824124</td>\n",
       "      <td>0.044336</td>\n",
       "      <td>30</td>\n",
       "    </tr>\n",
       "    <tr>\n",
       "      <th>40</th>\n",
       "      <td>0.003789</td>\n",
       "      <td>4.004519e-04</td>\n",
       "      <td>0.001397</td>\n",
       "      <td>4.877251e-04</td>\n",
       "      <td>11</td>\n",
       "      <td>0.3</td>\n",
       "      <td>{'max_depth': 11, 'max_features': 0.3}</td>\n",
       "      <td>0.772358</td>\n",
       "      <td>0.878049</td>\n",
       "      <td>0.756098</td>\n",
       "      <td>0.869919</td>\n",
       "      <td>0.836066</td>\n",
       "      <td>0.822498</td>\n",
       "      <td>0.049883</td>\n",
       "      <td>31</td>\n",
       "    </tr>\n",
       "    <tr>\n",
       "      <th>30</th>\n",
       "      <td>0.003191</td>\n",
       "      <td>3.992563e-04</td>\n",
       "      <td>0.001995</td>\n",
       "      <td>8.844012e-07</td>\n",
       "      <td>9</td>\n",
       "      <td>0.3</td>\n",
       "      <td>{'max_depth': 9, 'max_features': 0.3}</td>\n",
       "      <td>0.821138</td>\n",
       "      <td>0.804878</td>\n",
       "      <td>0.723577</td>\n",
       "      <td>0.837398</td>\n",
       "      <td>0.811475</td>\n",
       "      <td>0.799693</td>\n",
       "      <td>0.039600</td>\n",
       "      <td>32</td>\n",
       "    </tr>\n",
       "    <tr>\n",
       "      <th>25</th>\n",
       "      <td>0.004588</td>\n",
       "      <td>1.352537e-03</td>\n",
       "      <td>0.001796</td>\n",
       "      <td>7.461618e-04</td>\n",
       "      <td>8</td>\n",
       "      <td>0.3</td>\n",
       "      <td>{'max_depth': 8, 'max_features': 0.3}</td>\n",
       "      <td>0.821138</td>\n",
       "      <td>0.910569</td>\n",
       "      <td>0.747967</td>\n",
       "      <td>0.715447</td>\n",
       "      <td>0.803279</td>\n",
       "      <td>0.799680</td>\n",
       "      <td>0.067140</td>\n",
       "      <td>33</td>\n",
       "    </tr>\n",
       "    <tr>\n",
       "      <th>0</th>\n",
       "      <td>0.004189</td>\n",
       "      <td>3.995895e-04</td>\n",
       "      <td>0.001795</td>\n",
       "      <td>3.995895e-04</td>\n",
       "      <td>3</td>\n",
       "      <td>0.3</td>\n",
       "      <td>{'max_depth': 3, 'max_features': 0.3}</td>\n",
       "      <td>0.747967</td>\n",
       "      <td>0.845528</td>\n",
       "      <td>0.764228</td>\n",
       "      <td>0.772358</td>\n",
       "      <td>0.852459</td>\n",
       "      <td>0.796508</td>\n",
       "      <td>0.043623</td>\n",
       "      <td>34</td>\n",
       "    </tr>\n",
       "    <tr>\n",
       "      <th>10</th>\n",
       "      <td>0.004189</td>\n",
       "      <td>3.993753e-04</td>\n",
       "      <td>0.001995</td>\n",
       "      <td>6.143617e-07</td>\n",
       "      <td>5</td>\n",
       "      <td>0.3</td>\n",
       "      <td>{'max_depth': 5, 'max_features': 0.3}</td>\n",
       "      <td>0.772358</td>\n",
       "      <td>0.845528</td>\n",
       "      <td>0.756098</td>\n",
       "      <td>0.772358</td>\n",
       "      <td>0.827869</td>\n",
       "      <td>0.794842</td>\n",
       "      <td>0.035134</td>\n",
       "      <td>35</td>\n",
       "    </tr>\n",
       "    <tr>\n",
       "      <th>15</th>\n",
       "      <td>0.004587</td>\n",
       "      <td>2.720159e-03</td>\n",
       "      <td>0.001795</td>\n",
       "      <td>3.991129e-04</td>\n",
       "      <td>6</td>\n",
       "      <td>0.3</td>\n",
       "      <td>{'max_depth': 6, 'max_features': 0.3}</td>\n",
       "      <td>0.731707</td>\n",
       "      <td>0.813008</td>\n",
       "      <td>0.772358</td>\n",
       "      <td>0.804878</td>\n",
       "      <td>0.836066</td>\n",
       "      <td>0.791603</td>\n",
       "      <td>0.036247</td>\n",
       "      <td>36</td>\n",
       "    </tr>\n",
       "    <tr>\n",
       "      <th>44</th>\n",
       "      <td>0.004388</td>\n",
       "      <td>1.017543e-03</td>\n",
       "      <td>0.002597</td>\n",
       "      <td>4.850762e-04</td>\n",
       "      <td>11</td>\n",
       "      <td>1</td>\n",
       "      <td>{'max_depth': 11, 'max_features': 1}</td>\n",
       "      <td>0.715447</td>\n",
       "      <td>0.780488</td>\n",
       "      <td>0.699187</td>\n",
       "      <td>0.821138</td>\n",
       "      <td>0.795082</td>\n",
       "      <td>0.762268</td>\n",
       "      <td>0.047002</td>\n",
       "      <td>37</td>\n",
       "    </tr>\n",
       "    <tr>\n",
       "      <th>39</th>\n",
       "      <td>0.006186</td>\n",
       "      <td>3.116874e-03</td>\n",
       "      <td>0.002990</td>\n",
       "      <td>1.783821e-03</td>\n",
       "      <td>10</td>\n",
       "      <td>1</td>\n",
       "      <td>{'max_depth': 10, 'max_features': 1}</td>\n",
       "      <td>0.682927</td>\n",
       "      <td>0.804878</td>\n",
       "      <td>0.715447</td>\n",
       "      <td>0.723577</td>\n",
       "      <td>0.786885</td>\n",
       "      <td>0.742743</td>\n",
       "      <td>0.045825</td>\n",
       "      <td>38</td>\n",
       "    </tr>\n",
       "    <tr>\n",
       "      <th>29</th>\n",
       "      <td>0.003391</td>\n",
       "      <td>4.881888e-04</td>\n",
       "      <td>0.001993</td>\n",
       "      <td>1.544403e-03</td>\n",
       "      <td>8</td>\n",
       "      <td>1</td>\n",
       "      <td>{'max_depth': 8, 'max_features': 1}</td>\n",
       "      <td>0.715447</td>\n",
       "      <td>0.813008</td>\n",
       "      <td>0.707317</td>\n",
       "      <td>0.723577</td>\n",
       "      <td>0.745902</td>\n",
       "      <td>0.741050</td>\n",
       "      <td>0.038211</td>\n",
       "      <td>39</td>\n",
       "    </tr>\n",
       "    <tr>\n",
       "      <th>19</th>\n",
       "      <td>0.003391</td>\n",
       "      <td>7.983208e-04</td>\n",
       "      <td>0.001994</td>\n",
       "      <td>5.955694e-07</td>\n",
       "      <td>6</td>\n",
       "      <td>1</td>\n",
       "      <td>{'max_depth': 6, 'max_features': 1}</td>\n",
       "      <td>0.715447</td>\n",
       "      <td>0.764228</td>\n",
       "      <td>0.666667</td>\n",
       "      <td>0.731707</td>\n",
       "      <td>0.762295</td>\n",
       "      <td>0.728069</td>\n",
       "      <td>0.035838</td>\n",
       "      <td>40</td>\n",
       "    </tr>\n",
       "    <tr>\n",
       "      <th>34</th>\n",
       "      <td>0.006582</td>\n",
       "      <td>5.698350e-03</td>\n",
       "      <td>0.001995</td>\n",
       "      <td>8.341244e-07</td>\n",
       "      <td>9</td>\n",
       "      <td>1</td>\n",
       "      <td>{'max_depth': 9, 'max_features': 1}</td>\n",
       "      <td>0.764228</td>\n",
       "      <td>0.747967</td>\n",
       "      <td>0.715447</td>\n",
       "      <td>0.715447</td>\n",
       "      <td>0.680328</td>\n",
       "      <td>0.724683</td>\n",
       "      <td>0.029134</td>\n",
       "      <td>41</td>\n",
       "    </tr>\n",
       "    <tr>\n",
       "      <th>9</th>\n",
       "      <td>0.004189</td>\n",
       "      <td>1.595987e-03</td>\n",
       "      <td>0.001994</td>\n",
       "      <td>1.661420e-06</td>\n",
       "      <td>4</td>\n",
       "      <td>1</td>\n",
       "      <td>{'max_depth': 4, 'max_features': 1}</td>\n",
       "      <td>0.723577</td>\n",
       "      <td>0.747967</td>\n",
       "      <td>0.715447</td>\n",
       "      <td>0.707317</td>\n",
       "      <td>0.704918</td>\n",
       "      <td>0.719845</td>\n",
       "      <td>0.015517</td>\n",
       "      <td>42</td>\n",
       "    </tr>\n",
       "    <tr>\n",
       "      <th>14</th>\n",
       "      <td>0.004190</td>\n",
       "      <td>1.163506e-03</td>\n",
       "      <td>0.001795</td>\n",
       "      <td>3.987559e-04</td>\n",
       "      <td>5</td>\n",
       "      <td>1</td>\n",
       "      <td>{'max_depth': 5, 'max_features': 1}</td>\n",
       "      <td>0.707317</td>\n",
       "      <td>0.658537</td>\n",
       "      <td>0.707317</td>\n",
       "      <td>0.731707</td>\n",
       "      <td>0.729508</td>\n",
       "      <td>0.706877</td>\n",
       "      <td>0.026328</td>\n",
       "      <td>43</td>\n",
       "    </tr>\n",
       "    <tr>\n",
       "      <th>24</th>\n",
       "      <td>0.003392</td>\n",
       "      <td>4.887726e-04</td>\n",
       "      <td>0.001794</td>\n",
       "      <td>3.990653e-04</td>\n",
       "      <td>7</td>\n",
       "      <td>1</td>\n",
       "      <td>{'max_depth': 7, 'max_features': 1}</td>\n",
       "      <td>0.723577</td>\n",
       "      <td>0.691057</td>\n",
       "      <td>0.674797</td>\n",
       "      <td>0.707317</td>\n",
       "      <td>0.704918</td>\n",
       "      <td>0.700333</td>\n",
       "      <td>0.016421</td>\n",
       "      <td>44</td>\n",
       "    </tr>\n",
       "    <tr>\n",
       "      <th>4</th>\n",
       "      <td>0.008379</td>\n",
       "      <td>3.763339e-03</td>\n",
       "      <td>0.002792</td>\n",
       "      <td>1.163015e-03</td>\n",
       "      <td>3</td>\n",
       "      <td>1</td>\n",
       "      <td>{'max_depth': 3, 'max_features': 1}</td>\n",
       "      <td>0.691057</td>\n",
       "      <td>0.642276</td>\n",
       "      <td>0.699187</td>\n",
       "      <td>0.723577</td>\n",
       "      <td>0.647541</td>\n",
       "      <td>0.680728</td>\n",
       "      <td>0.031188</td>\n",
       "      <td>45</td>\n",
       "    </tr>\n",
       "  </tbody>\n",
       "</table>\n",
       "</div>"
      ],
      "text/plain": [
       "    mean_fit_time  std_fit_time  mean_score_time  std_score_time  \\\n",
       "12       0.004188  3.987802e-04         0.002194    3.989707e-04   \n",
       "7        0.004787  1.162034e-03         0.003391    3.313480e-03   \n",
       "8        0.003989  4.909339e-07         0.002792    1.595260e-03   \n",
       "18       0.004188  3.996153e-04         0.001596    4.883637e-04   \n",
       "27       0.003989  7.072638e-07         0.001597    4.880916e-04   \n",
       "17       0.004188  3.993051e-04         0.001596    4.891039e-04   \n",
       "31       0.004787  1.162630e-03         0.001995    9.818678e-07   \n",
       "11       0.004587  7.979516e-04         0.001995    7.008046e-07   \n",
       "1        0.003990  6.315810e-04         0.002593    7.975819e-04   \n",
       "6        0.003989  8.449576e-07         0.001795    3.980645e-04   \n",
       "21       0.003989  6.315075e-04         0.001995    5.519789e-07   \n",
       "23       0.003989  6.306764e-04         0.001596    4.880328e-04   \n",
       "28       0.004388  7.976534e-04         0.001995    8.120244e-07   \n",
       "36       0.003989  1.138433e-06         0.001596    4.888310e-04   \n",
       "32       0.004189  9.773113e-04         0.001796    3.981116e-04   \n",
       "22       0.004187  4.006659e-04         0.001995    6.316559e-04   \n",
       "38       0.005385  1.739703e-03         0.010372    1.576431e-02   \n",
       "43       0.005186  1.163220e-03         0.002593    4.896918e-04   \n",
       "13       0.004388  4.891425e-04         0.001995    8.203817e-07   \n",
       "37       0.003790  3.987551e-04         0.001795    3.989467e-04   \n",
       "33       0.005385  1.954437e-03         0.001596    4.885585e-04   \n",
       "16       0.003989  8.064048e-07         0.001397    4.879747e-04   \n",
       "42       0.004389  4.882289e-04         0.001994    2.123934e-06   \n",
       "35       0.003391  4.886005e-04         0.001794    3.984224e-04   \n",
       "41       0.004388  1.016411e-03         0.001995    6.312037e-04   \n",
       "20       0.004389  1.353530e-03         0.001995    1.154301e-06   \n",
       "26       0.005785  4.106683e-03         0.001795    3.988525e-04   \n",
       "3        0.003990  8.918038e-04         0.001994    6.641573e-07   \n",
       "2        0.004388  4.884612e-04         0.002394    4.881311e-04   \n",
       "5        0.003590  4.895516e-04         0.002394    4.890651e-04   \n",
       "40       0.003789  4.004519e-04         0.001397    4.877251e-04   \n",
       "30       0.003191  3.992563e-04         0.001995    8.844012e-07   \n",
       "25       0.004588  1.352537e-03         0.001796    7.461618e-04   \n",
       "0        0.004189  3.995895e-04         0.001795    3.995895e-04   \n",
       "10       0.004189  3.993753e-04         0.001995    6.143617e-07   \n",
       "15       0.004587  2.720159e-03         0.001795    3.991129e-04   \n",
       "44       0.004388  1.017543e-03         0.002597    4.850762e-04   \n",
       "39       0.006186  3.116874e-03         0.002990    1.783821e-03   \n",
       "29       0.003391  4.881888e-04         0.001993    1.544403e-03   \n",
       "19       0.003391  7.983208e-04         0.001994    5.955694e-07   \n",
       "34       0.006582  5.698350e-03         0.001995    8.341244e-07   \n",
       "9        0.004189  1.595987e-03         0.001994    1.661420e-06   \n",
       "14       0.004190  1.163506e-03         0.001795    3.987559e-04   \n",
       "24       0.003392  4.887726e-04         0.001794    3.990653e-04   \n",
       "4        0.008379  3.763339e-03         0.002792    1.163015e-03   \n",
       "\n",
       "   param_max_depth param_max_features                                  params  \\\n",
       "12               5                0.7   {'max_depth': 5, 'max_features': 0.7}   \n",
       "7                4                0.7   {'max_depth': 4, 'max_features': 0.7}   \n",
       "8                4                0.9   {'max_depth': 4, 'max_features': 0.9}   \n",
       "18               6                0.9   {'max_depth': 6, 'max_features': 0.9}   \n",
       "27               8                0.7   {'max_depth': 8, 'max_features': 0.7}   \n",
       "17               6                0.7   {'max_depth': 6, 'max_features': 0.7}   \n",
       "31               9                0.5   {'max_depth': 9, 'max_features': 0.5}   \n",
       "11               5                0.5   {'max_depth': 5, 'max_features': 0.5}   \n",
       "1                3                0.5   {'max_depth': 3, 'max_features': 0.5}   \n",
       "6                4                0.5   {'max_depth': 4, 'max_features': 0.5}   \n",
       "21               7                0.5   {'max_depth': 7, 'max_features': 0.5}   \n",
       "23               7                0.9   {'max_depth': 7, 'max_features': 0.9}   \n",
       "28               8                0.9   {'max_depth': 8, 'max_features': 0.9}   \n",
       "36              10                0.5  {'max_depth': 10, 'max_features': 0.5}   \n",
       "32               9                0.7   {'max_depth': 9, 'max_features': 0.7}   \n",
       "22               7                0.7   {'max_depth': 7, 'max_features': 0.7}   \n",
       "38              10                0.9  {'max_depth': 10, 'max_features': 0.9}   \n",
       "43              11                0.9  {'max_depth': 11, 'max_features': 0.9}   \n",
       "13               5                0.9   {'max_depth': 5, 'max_features': 0.9}   \n",
       "37              10                0.7  {'max_depth': 10, 'max_features': 0.7}   \n",
       "33               9                0.9   {'max_depth': 9, 'max_features': 0.9}   \n",
       "16               6                0.5   {'max_depth': 6, 'max_features': 0.5}   \n",
       "42              11                0.7  {'max_depth': 11, 'max_features': 0.7}   \n",
       "35              10                0.3  {'max_depth': 10, 'max_features': 0.3}   \n",
       "41              11                0.5  {'max_depth': 11, 'max_features': 0.5}   \n",
       "20               7                0.3   {'max_depth': 7, 'max_features': 0.3}   \n",
       "26               8                0.5   {'max_depth': 8, 'max_features': 0.5}   \n",
       "3                3                0.9   {'max_depth': 3, 'max_features': 0.9}   \n",
       "2                3                0.7   {'max_depth': 3, 'max_features': 0.7}   \n",
       "5                4                0.3   {'max_depth': 4, 'max_features': 0.3}   \n",
       "40              11                0.3  {'max_depth': 11, 'max_features': 0.3}   \n",
       "30               9                0.3   {'max_depth': 9, 'max_features': 0.3}   \n",
       "25               8                0.3   {'max_depth': 8, 'max_features': 0.3}   \n",
       "0                3                0.3   {'max_depth': 3, 'max_features': 0.3}   \n",
       "10               5                0.3   {'max_depth': 5, 'max_features': 0.3}   \n",
       "15               6                0.3   {'max_depth': 6, 'max_features': 0.3}   \n",
       "44              11                  1    {'max_depth': 11, 'max_features': 1}   \n",
       "39              10                  1    {'max_depth': 10, 'max_features': 1}   \n",
       "29               8                  1     {'max_depth': 8, 'max_features': 1}   \n",
       "19               6                  1     {'max_depth': 6, 'max_features': 1}   \n",
       "34               9                  1     {'max_depth': 9, 'max_features': 1}   \n",
       "9                4                  1     {'max_depth': 4, 'max_features': 1}   \n",
       "14               5                  1     {'max_depth': 5, 'max_features': 1}   \n",
       "24               7                  1     {'max_depth': 7, 'max_features': 1}   \n",
       "4                3                  1     {'max_depth': 3, 'max_features': 1}   \n",
       "\n",
       "    split0_test_score  split1_test_score  split2_test_score  \\\n",
       "12           0.878049           0.910569           0.813008   \n",
       "7            0.813008           0.886179           0.829268   \n",
       "8            0.821138           0.886179           0.853659   \n",
       "18           0.829268           0.894309           0.821138   \n",
       "27           0.861789           0.878049           0.837398   \n",
       "17           0.861789           0.869919           0.804878   \n",
       "31           0.853659           0.902439           0.780488   \n",
       "11           0.837398           0.878049           0.821138   \n",
       "1            0.780488           0.910569           0.813008   \n",
       "6            0.788618           0.886179           0.804878   \n",
       "21           0.845528           0.886179           0.821138   \n",
       "23           0.829268           0.902439           0.829268   \n",
       "28           0.861789           0.853659           0.821138   \n",
       "36           0.853659           0.894309           0.780488   \n",
       "32           0.821138           0.878049           0.861789   \n",
       "22           0.804878           0.853659           0.804878   \n",
       "38           0.821138           0.878049           0.796748   \n",
       "43           0.821138           0.878049           0.796748   \n",
       "13           0.853659           0.878049           0.788618   \n",
       "37           0.829268           0.845528           0.829268   \n",
       "33           0.829268           0.845528           0.796748   \n",
       "16           0.796748           0.910569           0.772358   \n",
       "42           0.829268           0.845528           0.829268   \n",
       "35           0.788618           0.918699           0.780488   \n",
       "41           0.837398           0.837398           0.780488   \n",
       "20           0.813008           0.861789           0.813008   \n",
       "26           0.869919           0.861789           0.780488   \n",
       "3            0.788618           0.902439           0.804878   \n",
       "2            0.780488           0.902439           0.804878   \n",
       "5            0.821138           0.894309           0.756098   \n",
       "40           0.772358           0.878049           0.756098   \n",
       "30           0.821138           0.804878           0.723577   \n",
       "25           0.821138           0.910569           0.747967   \n",
       "0            0.747967           0.845528           0.764228   \n",
       "10           0.772358           0.845528           0.756098   \n",
       "15           0.731707           0.813008           0.772358   \n",
       "44           0.715447           0.780488           0.699187   \n",
       "39           0.682927           0.804878           0.715447   \n",
       "29           0.715447           0.813008           0.707317   \n",
       "19           0.715447           0.764228           0.666667   \n",
       "34           0.764228           0.747967           0.715447   \n",
       "9            0.723577           0.747967           0.715447   \n",
       "14           0.707317           0.658537           0.707317   \n",
       "24           0.723577           0.691057           0.674797   \n",
       "4            0.691057           0.642276           0.699187   \n",
       "\n",
       "    split3_test_score  split4_test_score  mean_test_score  std_test_score  \\\n",
       "12           0.837398           0.893443         0.866493        0.036082   \n",
       "7            0.861789           0.918033         0.861655        0.037935   \n",
       "8            0.853659           0.893443         0.861615        0.026005   \n",
       "18           0.878049           0.877049         0.859963        0.029149   \n",
       "27           0.853659           0.860656         0.858310        0.013162   \n",
       "17           0.894309           0.860656         0.858310        0.029337   \n",
       "31           0.861789           0.885246         0.856724        0.041834   \n",
       "11           0.878049           0.868852         0.856697        0.023222   \n",
       "1            0.853659           0.918033         0.855151        0.053625   \n",
       "6            0.878049           0.918033         0.855151        0.049790   \n",
       "21           0.853659           0.860656         0.853432        0.021118   \n",
       "23           0.853659           0.852459         0.853419        0.026722   \n",
       "28           0.853659           0.868852         0.851819        0.016356   \n",
       "36           0.861789           0.868852         0.851819        0.038174   \n",
       "32           0.853659           0.844262         0.851779        0.018917   \n",
       "22           0.869919           0.918033         0.850273        0.042685   \n",
       "38           0.878049           0.860656         0.846928        0.032584   \n",
       "43           0.878049           0.860656         0.846928        0.032584   \n",
       "13           0.853659           0.852459         0.845289        0.029921   \n",
       "37           0.853659           0.860656         0.843676        0.012701   \n",
       "33           0.878049           0.860656         0.842050        0.027820   \n",
       "16           0.861789           0.860656         0.840424        0.049652   \n",
       "42           0.853659           0.844262         0.840397        0.009642   \n",
       "35           0.869919           0.844262         0.840397        0.051552   \n",
       "41           0.869919           0.868852         0.838811        0.032483   \n",
       "20           0.821138           0.868852         0.835559        0.024582   \n",
       "26           0.837398           0.827869         0.835492        0.031508   \n",
       "3            0.813008           0.819672         0.825723        0.039736   \n",
       "2            0.788618           0.844262         0.824137        0.044887   \n",
       "5            0.813008           0.836066         0.824124        0.044336   \n",
       "40           0.869919           0.836066         0.822498        0.049883   \n",
       "30           0.837398           0.811475         0.799693        0.039600   \n",
       "25           0.715447           0.803279         0.799680        0.067140   \n",
       "0            0.772358           0.852459         0.796508        0.043623   \n",
       "10           0.772358           0.827869         0.794842        0.035134   \n",
       "15           0.804878           0.836066         0.791603        0.036247   \n",
       "44           0.821138           0.795082         0.762268        0.047002   \n",
       "39           0.723577           0.786885         0.742743        0.045825   \n",
       "29           0.723577           0.745902         0.741050        0.038211   \n",
       "19           0.731707           0.762295         0.728069        0.035838   \n",
       "34           0.715447           0.680328         0.724683        0.029134   \n",
       "9            0.707317           0.704918         0.719845        0.015517   \n",
       "14           0.731707           0.729508         0.706877        0.026328   \n",
       "24           0.707317           0.704918         0.700333        0.016421   \n",
       "4            0.723577           0.647541         0.680728        0.031188   \n",
       "\n",
       "    rank_test_score  \n",
       "12                1  \n",
       "7                 2  \n",
       "8                 3  \n",
       "18                4  \n",
       "27                5  \n",
       "17                5  \n",
       "31                7  \n",
       "11                8  \n",
       "1                 9  \n",
       "6                 9  \n",
       "21               11  \n",
       "23               12  \n",
       "28               13  \n",
       "36               13  \n",
       "32               15  \n",
       "22               16  \n",
       "38               17  \n",
       "43               17  \n",
       "13               19  \n",
       "37               20  \n",
       "33               21  \n",
       "16               22  \n",
       "42               23  \n",
       "35               23  \n",
       "41               25  \n",
       "20               26  \n",
       "26               27  \n",
       "3                28  \n",
       "2                29  \n",
       "5                30  \n",
       "40               31  \n",
       "30               32  \n",
       "25               33  \n",
       "0                34  \n",
       "10               35  \n",
       "15               36  \n",
       "44               37  \n",
       "39               38  \n",
       "29               39  \n",
       "19               40  \n",
       "34               41  \n",
       "9                42  \n",
       "14               43  \n",
       "24               44  \n",
       "4                45  "
      ]
     },
     "execution_count": 59,
     "metadata": {},
     "output_type": "execute_result"
    }
   ],
   "source": [
    "pd.DataFrame(clf.cv_results_).sort_values(by=\"rank_test_score\")"
   ]
  },
  {
   "cell_type": "code",
   "execution_count": 60,
   "metadata": {},
   "outputs": [
    {
     "data": {
      "text/plain": [
       "array([1, 0, 0, 0, 0, 1, 0, 0, 1, 0, 0, 0, 1, 0, 0, 0, 0, 0, 1, 0, 0, 0,\n",
       "       0, 0, 1, 1, 0, 0, 0, 0, 1, 1, 1, 1, 0, 1, 1, 1, 0, 1, 0, 0, 0, 1,\n",
       "       0, 0, 1, 0, 0, 1, 0, 1, 1, 1, 0, 0, 0, 0, 0, 1, 1, 0, 1, 1, 0, 0,\n",
       "       0, 1, 0, 1, 1, 0, 0, 0, 0, 0, 0, 0, 0, 0, 1, 0, 0, 0, 0, 1, 1, 1,\n",
       "       0, 0, 0, 0, 0, 1, 0, 0, 0, 0, 1, 0, 0, 0, 1, 1, 1, 0, 0, 1, 0, 1,\n",
       "       0, 1, 0, 1, 0, 0, 0, 0, 0, 0, 0, 0, 1, 0, 0, 1, 1, 1, 1, 1, 1, 1,\n",
       "       0, 1, 1, 0, 1, 1, 1, 0, 0, 0, 0, 0, 0, 0, 1, 0, 0, 1, 0, 0, 1, 0],\n",
       "      dtype=int64)"
      ]
     },
     "execution_count": 60,
     "metadata": {},
     "output_type": "execute_result"
    }
   ],
   "source": [
    "clf.predict(X_test)"
   ]
  },
  {
   "cell_type": "code",
   "execution_count": 61,
   "metadata": {},
   "outputs": [
    {
     "data": {
      "text/plain": [
       "0.8701298701298701"
      ]
     },
     "execution_count": 61,
     "metadata": {},
     "output_type": "execute_result"
    }
   ],
   "source": [
    "clf.score(X_test, y_test)"
   ]
  },
  {
   "cell_type": "code",
   "execution_count": 62,
   "metadata": {},
   "outputs": [
    {
     "data": {
      "text/plain": [
       "array([14, 16,  8,  9, 10,  4, 11, 17,  9, 10])"
      ]
     },
     "execution_count": 62,
     "metadata": {},
     "output_type": "execute_result"
    }
   ],
   "source": [
    "max_depth = np.random.randint(3, 20, 10)\n",
    "max_depth"
   ]
  },
  {
   "cell_type": "code",
   "execution_count": 63,
   "metadata": {},
   "outputs": [
    {
     "data": {
      "text/plain": [
       "DecisionTreeClassifier(random_state=42)"
      ]
     },
     "execution_count": 63,
     "metadata": {},
     "output_type": "execute_result"
    }
   ],
   "source": [
    "model"
   ]
  },
  {
   "cell_type": "code",
   "execution_count": 64,
   "metadata": {},
   "outputs": [
    {
     "data": {
      "text/plain": [
       "array([0.71160996, 0.89601733, 0.86866424, 0.84257106, 0.84254086,\n",
       "       0.98097479, 0.99275122, 0.89541721, 0.86019996, 0.86407443,\n",
       "       0.89960054, 0.88229902, 0.85909146, 0.86953686, 0.70861725,\n",
       "       0.75213002, 0.90439855, 0.93871628, 0.89738595, 0.959304  ,\n",
       "       0.84532007, 0.97310786, 0.73445835, 0.96349992, 0.73880065,\n",
       "       0.9867072 , 0.87646679, 0.73400855, 0.9450644 , 0.79961339,\n",
       "       0.94533727, 0.86856684, 0.81895317, 0.79372669, 0.77656122,\n",
       "       0.79708827, 0.8807907 , 0.83115865, 0.95741853, 0.8341886 ,\n",
       "       0.84411589, 0.95902887, 0.85949081, 0.80906327, 0.80949344,\n",
       "       0.99327983, 0.84787368, 0.98057039, 0.74005569, 0.77735796,\n",
       "       0.97646864, 0.88691474, 0.98684176, 0.72844187, 0.99094883,\n",
       "       0.89352776, 0.92624184, 0.83419237, 0.83734648, 0.86030223,\n",
       "       0.72699069, 0.93550029, 0.74287963, 0.92213909, 0.88370781,\n",
       "       0.95157689, 0.95083516, 0.87656048, 0.9472181 , 0.7072475 ,\n",
       "       0.74424953, 0.7104897 , 0.97336115, 0.92921222, 0.81102575,\n",
       "       0.75217375, 0.99295692, 0.84311736, 0.86313366, 0.88295537,\n",
       "       0.88770546, 0.89177518, 0.85061485, 0.80567178, 0.90009909,\n",
       "       0.72422615, 0.93705753, 0.87054074, 0.76508586, 0.85323942,\n",
       "       0.72643396, 0.83324216, 0.77778571, 0.83892139, 0.98836416,\n",
       "       0.78410909, 0.79485525, 0.89322123, 0.79600281, 0.77455379])"
      ]
     },
     "execution_count": 64,
     "metadata": {},
     "output_type": "execute_result"
    }
   ],
   "source": [
    "max_features = np.random.uniform(0.7, 1.0, 100)\n",
    "max_features"
   ]
  },
  {
   "cell_type": "code",
   "execution_count": 65,
   "metadata": {},
   "outputs": [
    {
     "data": {
      "text/plain": [
       "{'max_depth': array([14, 16,  8,  9, 10,  4, 11, 17,  9, 10]),\n",
       " 'max_features': array([0.71160996, 0.89601733, 0.86866424, 0.84257106, 0.84254086,\n",
       "        0.98097479, 0.99275122, 0.89541721, 0.86019996, 0.86407443,\n",
       "        0.89960054, 0.88229902, 0.85909146, 0.86953686, 0.70861725,\n",
       "        0.75213002, 0.90439855, 0.93871628, 0.89738595, 0.959304  ,\n",
       "        0.84532007, 0.97310786, 0.73445835, 0.96349992, 0.73880065,\n",
       "        0.9867072 , 0.87646679, 0.73400855, 0.9450644 , 0.79961339,\n",
       "        0.94533727, 0.86856684, 0.81895317, 0.79372669, 0.77656122,\n",
       "        0.79708827, 0.8807907 , 0.83115865, 0.95741853, 0.8341886 ,\n",
       "        0.84411589, 0.95902887, 0.85949081, 0.80906327, 0.80949344,\n",
       "        0.99327983, 0.84787368, 0.98057039, 0.74005569, 0.77735796,\n",
       "        0.97646864, 0.88691474, 0.98684176, 0.72844187, 0.99094883,\n",
       "        0.89352776, 0.92624184, 0.83419237, 0.83734648, 0.86030223,\n",
       "        0.72699069, 0.93550029, 0.74287963, 0.92213909, 0.88370781,\n",
       "        0.95157689, 0.95083516, 0.87656048, 0.9472181 , 0.7072475 ,\n",
       "        0.74424953, 0.7104897 , 0.97336115, 0.92921222, 0.81102575,\n",
       "        0.75217375, 0.99295692, 0.84311736, 0.86313366, 0.88295537,\n",
       "        0.88770546, 0.89177518, 0.85061485, 0.80567178, 0.90009909,\n",
       "        0.72422615, 0.93705753, 0.87054074, 0.76508586, 0.85323942,\n",
       "        0.72643396, 0.83324216, 0.77778571, 0.83892139, 0.98836416,\n",
       "        0.78410909, 0.79485525, 0.89322123, 0.79600281, 0.77455379]),\n",
       " 'min_samples_split': [2, 3, 4, 5, 6]}"
      ]
     },
     "execution_count": 65,
     "metadata": {},
     "output_type": "execute_result"
    }
   ],
   "source": [
    "param_distributions = {\"max_depth\" : max_depth, \n",
    "                       \"max_features\" : max_features, \n",
    "                       \"min_samples_split\" : list(range(2, 7))}\n",
    "param_distributions"
   ]
  },
  {
   "cell_type": "code",
   "execution_count": 66,
   "metadata": {},
   "outputs": [
    {
     "data": {
      "text/plain": [
       "RandomizedSearchCV(cv=5, estimator=DecisionTreeClassifier(random_state=42),\n",
       "                   n_iter=1000, n_jobs=-1,\n",
       "                   param_distributions={'max_depth': array([14, 16,  8,  9, 10,  4, 11, 17,  9, 10]),\n",
       "                                        'max_features': array([0.71160996, 0.89601733, 0.86866424, 0.84257106, 0.84254086,\n",
       "       0.98097479, 0.99275122, 0.89541721, 0.86019996, 0.86407443,\n",
       "       0.89960054, 0.88229902, 0.85909146, 0.86953686, 0.70861725...\n",
       "       0.74424953, 0.7104897 , 0.97336115, 0.92921222, 0.81102575,\n",
       "       0.75217375, 0.99295692, 0.84311736, 0.86313366, 0.88295537,\n",
       "       0.88770546, 0.89177518, 0.85061485, 0.80567178, 0.90009909,\n",
       "       0.72422615, 0.93705753, 0.87054074, 0.76508586, 0.85323942,\n",
       "       0.72643396, 0.83324216, 0.77778571, 0.83892139, 0.98836416,\n",
       "       0.78410909, 0.79485525, 0.89322123, 0.79600281, 0.77455379]),\n",
       "                                        'min_samples_split': [2, 3, 4, 5, 6]},\n",
       "                   random_state=42, scoring='accuracy')"
      ]
     },
     "execution_count": 66,
     "metadata": {},
     "output_type": "execute_result"
    }
   ],
   "source": [
    "from sklearn.model_selection import RandomizedSearchCV\n",
    "\n",
    "clf = RandomizedSearchCV( model,\n",
    "                    param_distributions,\n",
    "                    n_iter=1000,\n",
    "                    scoring=\"accuracy\",\n",
    "                    n_jobs=-1,\n",
    "                    cv=5,\n",
    "                    random_state=42\n",
    "                  )\n",
    "clf.fit(X_train, y_train)"
   ]
  },
  {
   "cell_type": "code",
   "execution_count": 67,
   "metadata": {},
   "outputs": [
    {
     "data": {
      "text/plain": [
       "{'min_samples_split': 4, 'max_features': 0.860302228511191, 'max_depth': 10}"
      ]
     },
     "execution_count": 67,
     "metadata": {},
     "output_type": "execute_result"
    }
   ],
   "source": [
    "clf.best_params_"
   ]
  },
  {
   "cell_type": "code",
   "execution_count": 68,
   "metadata": {},
   "outputs": [
    {
     "data": {
      "text/plain": [
       "0.8713847794215648"
      ]
     },
     "execution_count": 68,
     "metadata": {},
     "output_type": "execute_result"
    }
   ],
   "source": [
    "clf.best_score_"
   ]
  },
  {
   "cell_type": "code",
   "execution_count": 69,
   "metadata": {},
   "outputs": [
    {
     "data": {
      "text/plain": [
       "0.8571428571428571"
      ]
     },
     "execution_count": 69,
     "metadata": {},
     "output_type": "execute_result"
    }
   ],
   "source": [
    "clf.score(X_test, y_test)"
   ]
  },
  {
   "cell_type": "code",
   "execution_count": 70,
   "metadata": {},
   "outputs": [
    {
     "data": {
      "text/html": [
       "<div>\n",
       "<style scoped>\n",
       "    .dataframe tbody tr th:only-of-type {\n",
       "        vertical-align: middle;\n",
       "    }\n",
       "\n",
       "    .dataframe tbody tr th {\n",
       "        vertical-align: top;\n",
       "    }\n",
       "\n",
       "    .dataframe thead th {\n",
       "        text-align: right;\n",
       "    }\n",
       "</style>\n",
       "<table border=\"1\" class=\"dataframe\">\n",
       "  <thead>\n",
       "    <tr style=\"text-align: right;\">\n",
       "      <th></th>\n",
       "      <th>mean_fit_time</th>\n",
       "      <th>std_fit_time</th>\n",
       "      <th>mean_score_time</th>\n",
       "      <th>std_score_time</th>\n",
       "      <th>param_min_samples_split</th>\n",
       "      <th>param_max_features</th>\n",
       "      <th>param_max_depth</th>\n",
       "      <th>params</th>\n",
       "      <th>split0_test_score</th>\n",
       "      <th>split1_test_score</th>\n",
       "      <th>split2_test_score</th>\n",
       "      <th>split3_test_score</th>\n",
       "      <th>split4_test_score</th>\n",
       "      <th>mean_test_score</th>\n",
       "      <th>std_test_score</th>\n",
       "      <th>rank_test_score</th>\n",
       "    </tr>\n",
       "  </thead>\n",
       "  <tbody>\n",
       "    <tr>\n",
       "      <th>112</th>\n",
       "      <td>0.005186</td>\n",
       "      <td>0.001595</td>\n",
       "      <td>0.006583</td>\n",
       "      <td>0.008191</td>\n",
       "      <td>6</td>\n",
       "      <td>0.959029</td>\n",
       "      <td>9</td>\n",
       "      <td>{'min_samples_split': 6, 'max_features': 0.959...</td>\n",
       "      <td>0.869919</td>\n",
       "      <td>0.878049</td>\n",
       "      <td>0.829268</td>\n",
       "      <td>0.878049</td>\n",
       "      <td>0.901639</td>\n",
       "      <td>0.871385</td>\n",
       "      <td>0.023580</td>\n",
       "      <td>1</td>\n",
       "    </tr>\n",
       "    <tr>\n",
       "      <th>88</th>\n",
       "      <td>0.010971</td>\n",
       "      <td>0.012505</td>\n",
       "      <td>0.003390</td>\n",
       "      <td>0.001492</td>\n",
       "      <td>4</td>\n",
       "      <td>0.860302</td>\n",
       "      <td>10</td>\n",
       "      <td>{'min_samples_split': 4, 'max_features': 0.860...</td>\n",
       "      <td>0.910569</td>\n",
       "      <td>0.886179</td>\n",
       "      <td>0.813008</td>\n",
       "      <td>0.845528</td>\n",
       "      <td>0.901639</td>\n",
       "      <td>0.871385</td>\n",
       "      <td>0.036731</td>\n",
       "      <td>1</td>\n",
       "    </tr>\n",
       "    <tr>\n",
       "      <th>946</th>\n",
       "      <td>0.010372</td>\n",
       "      <td>0.010900</td>\n",
       "      <td>0.001596</td>\n",
       "      <td>0.000488</td>\n",
       "      <td>6</td>\n",
       "      <td>0.957419</td>\n",
       "      <td>9</td>\n",
       "      <td>{'min_samples_split': 6, 'max_features': 0.957...</td>\n",
       "      <td>0.869919</td>\n",
       "      <td>0.878049</td>\n",
       "      <td>0.829268</td>\n",
       "      <td>0.878049</td>\n",
       "      <td>0.901639</td>\n",
       "      <td>0.871385</td>\n",
       "      <td>0.023580</td>\n",
       "      <td>1</td>\n",
       "    </tr>\n",
       "    <tr>\n",
       "      <th>701</th>\n",
       "      <td>0.006582</td>\n",
       "      <td>0.003064</td>\n",
       "      <td>0.004786</td>\n",
       "      <td>0.004653</td>\n",
       "      <td>6</td>\n",
       "      <td>0.899601</td>\n",
       "      <td>9</td>\n",
       "      <td>{'min_samples_split': 6, 'max_features': 0.899...</td>\n",
       "      <td>0.869919</td>\n",
       "      <td>0.878049</td>\n",
       "      <td>0.829268</td>\n",
       "      <td>0.878049</td>\n",
       "      <td>0.901639</td>\n",
       "      <td>0.871385</td>\n",
       "      <td>0.023580</td>\n",
       "      <td>1</td>\n",
       "    </tr>\n",
       "    <tr>\n",
       "      <th>944</th>\n",
       "      <td>0.008576</td>\n",
       "      <td>0.005520</td>\n",
       "      <td>0.002194</td>\n",
       "      <td>0.000747</td>\n",
       "      <td>6</td>\n",
       "      <td>0.986707</td>\n",
       "      <td>9</td>\n",
       "      <td>{'min_samples_split': 6, 'max_features': 0.986...</td>\n",
       "      <td>0.869919</td>\n",
       "      <td>0.878049</td>\n",
       "      <td>0.829268</td>\n",
       "      <td>0.878049</td>\n",
       "      <td>0.901639</td>\n",
       "      <td>0.871385</td>\n",
       "      <td>0.023580</td>\n",
       "      <td>1</td>\n",
       "    </tr>\n",
       "  </tbody>\n",
       "</table>\n",
       "</div>"
      ],
      "text/plain": [
       "     mean_fit_time  std_fit_time  mean_score_time  std_score_time  \\\n",
       "112       0.005186      0.001595         0.006583        0.008191   \n",
       "88        0.010971      0.012505         0.003390        0.001492   \n",
       "946       0.010372      0.010900         0.001596        0.000488   \n",
       "701       0.006582      0.003064         0.004786        0.004653   \n",
       "944       0.008576      0.005520         0.002194        0.000747   \n",
       "\n",
       "    param_min_samples_split param_max_features param_max_depth  \\\n",
       "112                       6           0.959029               9   \n",
       "88                        4           0.860302              10   \n",
       "946                       6           0.957419               9   \n",
       "701                       6           0.899601               9   \n",
       "944                       6           0.986707               9   \n",
       "\n",
       "                                                params  split0_test_score  \\\n",
       "112  {'min_samples_split': 6, 'max_features': 0.959...           0.869919   \n",
       "88   {'min_samples_split': 4, 'max_features': 0.860...           0.910569   \n",
       "946  {'min_samples_split': 6, 'max_features': 0.957...           0.869919   \n",
       "701  {'min_samples_split': 6, 'max_features': 0.899...           0.869919   \n",
       "944  {'min_samples_split': 6, 'max_features': 0.986...           0.869919   \n",
       "\n",
       "     split1_test_score  split2_test_score  split3_test_score  \\\n",
       "112           0.878049           0.829268           0.878049   \n",
       "88            0.886179           0.813008           0.845528   \n",
       "946           0.878049           0.829268           0.878049   \n",
       "701           0.878049           0.829268           0.878049   \n",
       "944           0.878049           0.829268           0.878049   \n",
       "\n",
       "     split4_test_score  mean_test_score  std_test_score  rank_test_score  \n",
       "112           0.901639         0.871385        0.023580                1  \n",
       "88            0.901639         0.871385        0.036731                1  \n",
       "946           0.901639         0.871385        0.023580                1  \n",
       "701           0.901639         0.871385        0.023580                1  \n",
       "944           0.901639         0.871385        0.023580                1  "
      ]
     },
     "execution_count": 70,
     "metadata": {},
     "output_type": "execute_result"
    }
   ],
   "source": [
    "pd.DataFrame(clf.cv_results_).sort_values(by=\"rank_test_score\").head()"
   ]
  },
  {
   "cell_type": "markdown",
   "metadata": {},
   "source": [
    "# 학습과 예측하기"
   ]
  },
  {
   "cell_type": "code",
   "execution_count": 116,
   "metadata": {},
   "outputs": [
    {
     "data": {
      "text/plain": [
       "GradientBoostingClassifier()"
      ]
     },
     "execution_count": 116,
     "metadata": {},
     "output_type": "execute_result"
    }
   ],
   "source": [
    "# 학습을 시킵니다.\n",
    "model.fit(X_train, y_train)"
   ]
  },
  {
   "cell_type": "markdown",
   "metadata": {},
   "source": [
    "# 정확도(Accuracy)측정하기"
   ]
  },
  {
   "cell_type": "code",
   "execution_count": 117,
   "metadata": {},
   "outputs": [
    {
     "data": {
      "text/plain": [
       "array([1, 0, 0, 0, 0, 1, 0, 0, 1, 0, 1, 1, 0, 0, 0, 1, 0, 0, 1, 0, 0, 0,\n",
       "       0, 0, 1, 1, 0, 0, 0, 0, 1, 1, 1, 1, 0, 1, 1, 1, 0, 1, 0, 0, 0, 1,\n",
       "       0, 0, 1, 0, 0, 1, 0, 1, 1, 1, 0, 0, 0, 0, 0, 1, 1, 0, 0, 0, 0, 0,\n",
       "       0, 1, 0, 1, 1, 0, 0, 0, 0, 0, 0, 0, 0, 0, 1, 0, 0, 1, 0, 1, 1, 0,\n",
       "       0, 0, 0, 0, 0, 1, 1, 0, 0, 0, 1, 0, 1, 0, 1, 1, 1, 1, 0, 1, 0, 1,\n",
       "       0, 0, 0, 1, 0, 0, 1, 0, 0, 0, 0, 0, 1, 0, 0, 1, 1, 1, 1, 1, 1, 1,\n",
       "       0, 1, 1, 0, 1, 1, 1, 0, 0, 0, 0, 0, 0, 0, 1, 0, 0, 1, 0, 0, 0, 0],\n",
       "      dtype=int64)"
      ]
     },
     "execution_count": 117,
     "metadata": {},
     "output_type": "execute_result"
    }
   ],
   "source": [
    "y_predict = model.predict(X_test)\n",
    "y_predict"
   ]
  },
  {
   "cell_type": "code",
   "execution_count": 120,
   "metadata": {},
   "outputs": [],
   "source": [
    "feature_names = X_train.columns.tolist()"
   ]
  },
  {
   "cell_type": "code",
   "execution_count": 122,
   "metadata": {},
   "outputs": [
    {
     "data": {
      "text/plain": [
       "<matplotlib.axes._subplots.AxesSubplot at 0x1df24db0a30>"
      ]
     },
     "execution_count": 122,
     "metadata": {},
     "output_type": "execute_result"
    },
    {
     "data": {
      "image/png": "[encoded data removed]",
      "text/plain": [
       "<Figure size 432x288 with 1 Axes>"
      ]
     },
     "metadata": {
      "needs_background": "light"
     },
     "output_type": "display_data"
    }
   ],
   "source": [
    "sns.barplot(x=model.feature_importances_, y=feature_names)"
   ]
  },
  {
   "cell_type": "code",
   "execution_count": 118,
   "metadata": {},
   "outputs": [
    {
     "data": {
      "text/plain": [
       "24"
      ]
     },
     "execution_count": 118,
     "metadata": {},
     "output_type": "execute_result"
    }
   ],
   "source": [
    "# 다르게 예측한 개수를 구해서 diff_count 에 할당해 줍니다.\n",
    "# DT : 28\n",
    "# RF : 20\n",
    "# GB : 24\n",
    "\n",
    "(y_predict != y_test).sum()"
   ]
  },
  {
   "cell_type": "code",
   "execution_count": 123,
   "metadata": {},
   "outputs": [
    {
     "data": {
      "text/plain": [
       "84.4155844155844"
      ]
     },
     "execution_count": 123,
     "metadata": {},
     "output_type": "execute_result"
    }
   ],
   "source": [
    "# accuracy score 를 구합니다.\n",
    "# DT : 0.818\n",
    "# RF : 0.870\n",
    "# GB : 0.844\n",
    "from sklearn.metrics import accuracy_score\n",
    "\n",
    "accuracy_score(y_test, y_predict) * 100"
   ]
  },
  {
   "cell_type": "code",
   "execution_count": null,
   "metadata": {},
   "outputs": [],
   "source": []
  }
 ],
 "metadata": {
  "kernelspec": {
   "display_name": "Python 3",
   "language": "python",
   "name": "python3"
  },
  "language_info": {
   "codemirror_mode": {
    "name": "ipython",
    "version": 3
   },
   "file_extension": ".py",
   "mimetype": "text/x-python",
   "name": "python",
   "nbconvert_exporter": "python",
   "pygments_lexer": "ipython3",
   "version": "3.8.3"
  },
  "toc": {
   "base_numbering": 1,
   "nav_menu": {},
   "number_sections": true,
   "sideBar": true,
   "skip_h1_title": false,
   "title_cell": "Table of Contents",
   "title_sidebar": "Contents",
   "toc_cell": false,
   "toc_position": {
    "height": "calc(100% - 180px)",
    "left": "10px",
    "top": "150px",
    "width": "191.594px"
   },
   "toc_section_display": true,
   "toc_window_display": true
  }
 },
 "nbformat": 4,
 "nbformat_minor": 4
}
