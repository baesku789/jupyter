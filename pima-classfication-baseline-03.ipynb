{
 "cells": [
  {
   "cell_type": "markdown",
   "metadata": {},
   "source": [
    "# 데이터셋 출처\n",
    "   + https://www.kaggle.com/uciml/pima-indians-diabetes-database"
   ]
  },
  {
   "cell_type": "markdown",
   "metadata": {},
   "source": [
    "## 데이터 구성\n",
    "\n",
    "   + Pregnancies : 임신 횟수\n",
    "   + Glucose : 2시간 동안의 경구 포도당 내성 검사에서 혈장 포도당 농도\n",
    "   + BloodPressure : 이완기 혈압 (mm Hg)\n",
    "   + SkinThickness : 삼두근 피부 주름 두께 (mm), 체지방을 추정하는데 사용되는 값\n",
    "   + Insulin : 2시간 혈청 인슐린 (mu U / ml)\n",
    "   + BMI : 체질량 지수 (체중kg / 키(m)^2)\n",
    "   + DiabetesPedigreeFunction : 당뇨병 혈통 기능\n",
    "   + Age : 나이\n",
    "   + Outcome : 768개 중에 268개의 결과 클래스 변수(0 또는 1)는 1이고 나머지는 0입니다.\n"
   ]
  },
  {
   "cell_type": "markdown",
   "metadata": {},
   "source": [
    "# 필요한 라이브러리 로드"
   ]
  },
  {
   "cell_type": "code",
   "execution_count": 11,
   "metadata": {},
   "outputs": [],
   "source": [
    "# 데이터 분석을 위한 pandas, 수치계산을 위한 numpy\n",
    "# 시각화를 위한 seaborn, matplotlib.pyplot 을 로드합니다.\n",
    "\n",
    "import pandas as pd\n",
    "import numpy as np\n",
    "import seaborn as sns\n",
    "import matplotlib.pyplot as plt"
   ]
  },
  {
   "cell_type": "markdown",
   "metadata": {},
   "source": [
    "# 데이터셋 로드"
   ]
  },
  {
   "cell_type": "code",
   "execution_count": 12,
   "metadata": {},
   "outputs": [
    {
     "data": {
      "text/plain": [
       "(768, 16)"
      ]
     },
     "execution_count": 12,
     "metadata": {},
     "output_type": "execute_result"
    }
   ],
   "source": [
    "df = pd.read_csv(\"diabetes_feature.csv\")\n",
    "df.shape"
   ]
  },
  {
   "cell_type": "markdown",
   "metadata": {},
   "source": [
    "# 학습,예측 데이터 만들기"
   ]
  },
  {
   "cell_type": "code",
   "execution_count": 13,
   "metadata": {},
   "outputs": [
    {
     "data": {
      "text/plain": [
       "Index(['Pregnancies', 'Glucose', 'BloodPressure', 'SkinThickness', 'Insulin',\n",
       "       'BMI', 'DiabetesPedigreeFunction', 'Age', 'Outcome', 'Pregnancies_high',\n",
       "       'Age_low', 'Age_middle', 'Age_high', 'Insulin_nan', 'Insulin_log',\n",
       "       'low_glu_Insulin'],\n",
       "      dtype='object')"
      ]
     },
     "execution_count": 13,
     "metadata": {},
     "output_type": "execute_result"
    }
   ],
   "source": [
    "df.columns"
   ]
  },
  {
   "cell_type": "code",
   "execution_count": 14,
   "metadata": {},
   "outputs": [
    {
     "data": {
      "text/plain": [
       "(768, 9)"
      ]
     },
     "execution_count": 14,
     "metadata": {},
     "output_type": "execute_result"
    }
   ],
   "source": [
    "X = df[['Glucose', 'BloodPressure', 'SkinThickness',\n",
    "    'BMI', 'DiabetesPedigreeFunction', 'Age', 'Pregnancies_high',\n",
    "    'Insulin_nan', 'low_glu_Insulin']]\n",
    "X.shape"
   ]
  },
  {
   "cell_type": "code",
   "execution_count": 15,
   "metadata": {},
   "outputs": [
    {
     "data": {
      "text/plain": [
       "(768,)"
      ]
     },
     "execution_count": 15,
     "metadata": {},
     "output_type": "execute_result"
    }
   ],
   "source": [
    "y = df[\"Outcome\"]\n",
    "y.shape"
   ]
  },
  {
   "cell_type": "code",
   "execution_count": 16,
   "metadata": {},
   "outputs": [],
   "source": [
    "# 사이킷런에서 제공하는 model_selection 의 train_test_split 으로 만듭니다.\n",
    "\n",
    "from sklearn.model_selection import train_test_split\n",
    "\n",
    "X_train, X_test, y_train, y_test = train_test_split(\n",
    "    X,y, test_size=0.2, random_state=42)"
   ]
  },
  {
   "cell_type": "code",
   "execution_count": 17,
   "metadata": {},
   "outputs": [
    {
     "data": {
      "text/plain": [
       "((614, 9), (614,))"
      ]
     },
     "execution_count": 17,
     "metadata": {},
     "output_type": "execute_result"
    }
   ],
   "source": [
    "# train 세트의 문제와 정답의 데이터 수를 확인해 주세요.\n",
    "\n",
    "X_train.shape, y_train.shape"
   ]
  },
  {
   "cell_type": "code",
   "execution_count": 18,
   "metadata": {},
   "outputs": [
    {
     "data": {
      "text/plain": [
       "((154, 9), (154,))"
      ]
     },
     "execution_count": 18,
     "metadata": {},
     "output_type": "execute_result"
    }
   ],
   "source": [
    "# test 세트의 문제와 정답을 확인해 주세요.\n",
    "\n",
    "X_test.shape, y_test.shape"
   ]
  },
  {
   "cell_type": "markdown",
   "metadata": {},
   "source": [
    "# 학습과 예측하기"
   ]
  },
  {
   "cell_type": "code",
   "execution_count": 19,
   "metadata": {},
   "outputs": [
    {
     "data": {
      "text/plain": [
       "DecisionTreeClassifier(max_depth=5, random_state=42)"
      ]
     },
     "execution_count": 19,
     "metadata": {},
     "output_type": "execute_result"
    }
   ],
   "source": [
    "# DecisionTree 를 불러 옵니다.\n",
    "\n",
    "from sklearn.tree import DecisionTreeClassifier\n",
    "\n",
    "model = DecisionTreeClassifier(max_depth=5, random_state=42)\n",
    "model"
   ]
  },
  {
   "cell_type": "code",
   "execution_count": 31,
   "metadata": {},
   "outputs": [
    {
     "data": {
      "text/plain": [
       "DecisionTreeClassifier(max_depth=11, random_state=42)"
      ]
     },
     "execution_count": 31,
     "metadata": {},
     "output_type": "execute_result"
    }
   ],
   "source": [
    "# 학습을 시킵니다.\n",
    "model.fit(X_train, y_train)"
   ]
  },
  {
   "cell_type": "code",
   "execution_count": 34,
   "metadata": {},
   "outputs": [],
   "source": [
    "feature_names=X_train.columns.tolist()"
   ]
  },
  {
   "cell_type": "code",
   "execution_count": 35,
   "metadata": {},
   "outputs": [
    {
     "data": {
      "image/png": "[encoded data removed]",
      "text/plain": [
       "<Figure size 1080x1080 with 1 Axes>"
      ]
     },
     "metadata": {
      "needs_background": "light"
     },
     "output_type": "display_data"
    }
   ],
   "source": [
    "from sklearn.tree import plot_tree\n",
    "\n",
    "plt.figure(figsize=(15, 15))\n",
    "tree = plot_tree(model, feature_names=feature_names, fontsize=10, filled=True)"
   ]
  },
  {
   "cell_type": "markdown",
   "metadata": {},
   "source": [
    "## 최적의 max_depth 값 찾기"
   ]
  },
  {
   "cell_type": "code",
   "execution_count": 30,
   "metadata": {},
   "outputs": [
    {
     "name": "stdout",
     "output_type": "stream",
     "text": [
      "3 85.06493506493507\n",
      "4 87.66233766233766\n",
      "5 85.71428571428571\n",
      "6 81.81818181818183\n",
      "7 81.81818181818183\n",
      "8 81.81818181818183\n",
      "9 83.76623376623377\n",
      "10 79.22077922077922\n",
      "11 81.81818181818183\n"
     ]
    }
   ],
   "source": [
    "from sklearn.metrics import accuracy_score\n",
    "\n",
    "for max_depth in range(3, 12):\n",
    "    model = DecisionTreeClassifier(max_depth=max_depth, random_state=42)\n",
    "    y_predict = model.fit(X_train, y_train).predict(X_test)\n",
    "    score = accuracy_score(y_test, y_predict) * 100\n",
    "    print(max_depth, score)"
   ]
  },
  {
   "cell_type": "markdown",
   "metadata": {},
   "source": [
    "# Grid Search"
   ]
  },
  {
   "cell_type": "markdown",
   "metadata": {},
   "source": [
    "   + https://sklearn.org/modules/cross_validation.html#cross-validation\n",
    "   + https://scikit-learn.org/stable/modules/generated/sklearn.model_selection.GridSearchCV.html"
   ]
  },
  {
   "cell_type": "code",
   "execution_count": 21,
   "metadata": {},
   "outputs": [
    {
     "name": "stdout",
     "output_type": "stream",
     "text": [
      "Fitting 5 folds for each of 45 candidates, totalling 225 fits\n"
     ]
    },
    {
     "name": "stderr",
     "output_type": "stream",
     "text": [
      "[Parallel(n_jobs=-1)]: Using backend LokyBackend with 6 concurrent workers.\n",
      "[Parallel(n_jobs=-1)]: Done  41 tasks      | elapsed:    2.1s\n",
      "[Parallel(n_jobs=-1)]: Done 214 out of 225 | elapsed:    2.4s remaining:    0.0s\n",
      "[Parallel(n_jobs=-1)]: Done 225 out of 225 | elapsed:    2.4s finished\n"
     ]
    },
    {
     "data": {
      "text/plain": [
       "GridSearchCV(cv=5, estimator=DecisionTreeClassifier(random_state=42), n_jobs=-1,\n",
       "             param_grid={'max_depth': range(3, 12),\n",
       "                         'max_features': [0.3, 0.5, 0.7, 0.9, 1]},\n",
       "             verbose=1)"
      ]
     },
     "execution_count": 21,
     "metadata": {},
     "output_type": "execute_result"
    }
   ],
   "source": [
    "from sklearn.model_selection import GridSearchCV\n",
    "\n",
    "model = DecisionTreeClassifier(random_state=42)\n",
    "param_grid = {\"max_depth\" : range(3,12), \n",
    "              \"max_features\": [0.3, 0.5, 0.7, 0.9, 1]}\n",
    "clf = GridSearchCV(model, param_grid=param_grid, n_jobs=-1, cv=5, verbose=1)\n",
    "clf.fit(X_train, y_train)"
   ]
  },
  {
   "cell_type": "code",
   "execution_count": 22,
   "metadata": {},
   "outputs": [
    {
     "data": {
      "text/plain": [
       "{'max_depth': 5, 'max_features': 0.7}"
      ]
     },
     "execution_count": 22,
     "metadata": {},
     "output_type": "execute_result"
    }
   ],
   "source": [
    "clf.best_params_"
   ]
  },
  {
   "cell_type": "code",
   "execution_count": 23,
   "metadata": {},
   "outputs": [
    {
     "data": {
      "text/plain": [
       "DecisionTreeClassifier(max_depth=5, max_features=0.7, random_state=42)"
      ]
     },
     "execution_count": 23,
     "metadata": {},
     "output_type": "execute_result"
    }
   ],
   "source": [
    "clf.best_estimator_"
   ]
  },
  {
   "cell_type": "code",
   "execution_count": 24,
   "metadata": {},
   "outputs": [
    {
     "data": {
      "text/plain": [
       "0.8664934026389444"
      ]
     },
     "execution_count": 24,
     "metadata": {},
     "output_type": "execute_result"
    }
   ],
   "source": [
    "clf.best_score_"
   ]
  },
  {
   "cell_type": "code",
   "execution_count": 25,
   "metadata": {},
   "outputs": [
    {
     "data": {
      "text/html": [
       "<div>\n",
       "<style scoped>\n",
       "    .dataframe tbody tr th:only-of-type {\n",
       "        vertical-align: middle;\n",
       "    }\n",
       "\n",
       "    .dataframe tbody tr th {\n",
       "        vertical-align: top;\n",
       "    }\n",
       "\n",
       "    .dataframe thead th {\n",
       "        text-align: right;\n",
       "    }\n",
       "</style>\n",
       "<table border=\"1\" class=\"dataframe\">\n",
       "  <thead>\n",
       "    <tr style=\"text-align: right;\">\n",
       "      <th></th>\n",
       "      <th>mean_fit_time</th>\n",
       "      <th>std_fit_time</th>\n",
       "      <th>mean_score_time</th>\n",
       "      <th>std_score_time</th>\n",
       "      <th>param_max_depth</th>\n",
       "      <th>param_max_features</th>\n",
       "      <th>params</th>\n",
       "      <th>split0_test_score</th>\n",
       "      <th>split1_test_score</th>\n",
       "      <th>split2_test_score</th>\n",
       "      <th>split3_test_score</th>\n",
       "      <th>split4_test_score</th>\n",
       "      <th>mean_test_score</th>\n",
       "      <th>std_test_score</th>\n",
       "      <th>rank_test_score</th>\n",
       "    </tr>\n",
       "  </thead>\n",
       "  <tbody>\n",
       "    <tr>\n",
       "      <th>12</th>\n",
       "      <td>0.003600</td>\n",
       "      <td>0.000477</td>\n",
       "      <td>0.001999</td>\n",
       "      <td>0.000642</td>\n",
       "      <td>5</td>\n",
       "      <td>0.7</td>\n",
       "      <td>{'max_depth': 5, 'max_features': 0.7}</td>\n",
       "      <td>0.878049</td>\n",
       "      <td>0.910569</td>\n",
       "      <td>0.813008</td>\n",
       "      <td>0.837398</td>\n",
       "      <td>0.893443</td>\n",
       "      <td>0.866493</td>\n",
       "      <td>0.036082</td>\n",
       "      <td>1</td>\n",
       "    </tr>\n",
       "    <tr>\n",
       "      <th>7</th>\n",
       "      <td>0.004602</td>\n",
       "      <td>0.001750</td>\n",
       "      <td>0.002210</td>\n",
       "      <td>0.000391</td>\n",
       "      <td>4</td>\n",
       "      <td>0.7</td>\n",
       "      <td>{'max_depth': 4, 'max_features': 0.7}</td>\n",
       "      <td>0.813008</td>\n",
       "      <td>0.886179</td>\n",
       "      <td>0.829268</td>\n",
       "      <td>0.861789</td>\n",
       "      <td>0.918033</td>\n",
       "      <td>0.861655</td>\n",
       "      <td>0.037935</td>\n",
       "      <td>2</td>\n",
       "    </tr>\n",
       "    <tr>\n",
       "      <th>8</th>\n",
       "      <td>0.006207</td>\n",
       "      <td>0.003453</td>\n",
       "      <td>0.002297</td>\n",
       "      <td>0.000398</td>\n",
       "      <td>4</td>\n",
       "      <td>0.9</td>\n",
       "      <td>{'max_depth': 4, 'max_features': 0.9}</td>\n",
       "      <td>0.821138</td>\n",
       "      <td>0.886179</td>\n",
       "      <td>0.853659</td>\n",
       "      <td>0.853659</td>\n",
       "      <td>0.893443</td>\n",
       "      <td>0.861615</td>\n",
       "      <td>0.026005</td>\n",
       "      <td>3</td>\n",
       "    </tr>\n",
       "    <tr>\n",
       "      <th>18</th>\n",
       "      <td>0.012797</td>\n",
       "      <td>0.016607</td>\n",
       "      <td>0.002200</td>\n",
       "      <td>0.000989</td>\n",
       "      <td>6</td>\n",
       "      <td>0.9</td>\n",
       "      <td>{'max_depth': 6, 'max_features': 0.9}</td>\n",
       "      <td>0.829268</td>\n",
       "      <td>0.894309</td>\n",
       "      <td>0.821138</td>\n",
       "      <td>0.878049</td>\n",
       "      <td>0.877049</td>\n",
       "      <td>0.859963</td>\n",
       "      <td>0.029149</td>\n",
       "      <td>4</td>\n",
       "    </tr>\n",
       "    <tr>\n",
       "      <th>27</th>\n",
       "      <td>0.004000</td>\n",
       "      <td>0.000643</td>\n",
       "      <td>0.002110</td>\n",
       "      <td>0.000207</td>\n",
       "      <td>8</td>\n",
       "      <td>0.7</td>\n",
       "      <td>{'max_depth': 8, 'max_features': 0.7}</td>\n",
       "      <td>0.861789</td>\n",
       "      <td>0.878049</td>\n",
       "      <td>0.837398</td>\n",
       "      <td>0.853659</td>\n",
       "      <td>0.860656</td>\n",
       "      <td>0.858310</td>\n",
       "      <td>0.013162</td>\n",
       "      <td>5</td>\n",
       "    </tr>\n",
       "    <tr>\n",
       "      <th>17</th>\n",
       "      <td>0.004300</td>\n",
       "      <td>0.000396</td>\n",
       "      <td>0.002106</td>\n",
       "      <td>0.000199</td>\n",
       "      <td>6</td>\n",
       "      <td>0.7</td>\n",
       "      <td>{'max_depth': 6, 'max_features': 0.7}</td>\n",
       "      <td>0.861789</td>\n",
       "      <td>0.869919</td>\n",
       "      <td>0.804878</td>\n",
       "      <td>0.894309</td>\n",
       "      <td>0.860656</td>\n",
       "      <td>0.858310</td>\n",
       "      <td>0.029337</td>\n",
       "      <td>5</td>\n",
       "    </tr>\n",
       "    <tr>\n",
       "      <th>31</th>\n",
       "      <td>0.004808</td>\n",
       "      <td>0.001174</td>\n",
       "      <td>0.001794</td>\n",
       "      <td>0.000398</td>\n",
       "      <td>9</td>\n",
       "      <td>0.5</td>\n",
       "      <td>{'max_depth': 9, 'max_features': 0.5}</td>\n",
       "      <td>0.853659</td>\n",
       "      <td>0.902439</td>\n",
       "      <td>0.780488</td>\n",
       "      <td>0.861789</td>\n",
       "      <td>0.885246</td>\n",
       "      <td>0.856724</td>\n",
       "      <td>0.041834</td>\n",
       "      <td>7</td>\n",
       "    </tr>\n",
       "    <tr>\n",
       "      <th>11</th>\n",
       "      <td>0.003594</td>\n",
       "      <td>0.000584</td>\n",
       "      <td>0.002401</td>\n",
       "      <td>0.000497</td>\n",
       "      <td>5</td>\n",
       "      <td>0.5</td>\n",
       "      <td>{'max_depth': 5, 'max_features': 0.5}</td>\n",
       "      <td>0.837398</td>\n",
       "      <td>0.878049</td>\n",
       "      <td>0.821138</td>\n",
       "      <td>0.878049</td>\n",
       "      <td>0.868852</td>\n",
       "      <td>0.856697</td>\n",
       "      <td>0.023222</td>\n",
       "      <td>8</td>\n",
       "    </tr>\n",
       "    <tr>\n",
       "      <th>1</th>\n",
       "      <td>0.005585</td>\n",
       "      <td>0.001849</td>\n",
       "      <td>0.001795</td>\n",
       "      <td>0.000398</td>\n",
       "      <td>3</td>\n",
       "      <td>0.5</td>\n",
       "      <td>{'max_depth': 3, 'max_features': 0.5}</td>\n",
       "      <td>0.780488</td>\n",
       "      <td>0.910569</td>\n",
       "      <td>0.813008</td>\n",
       "      <td>0.853659</td>\n",
       "      <td>0.918033</td>\n",
       "      <td>0.855151</td>\n",
       "      <td>0.053625</td>\n",
       "      <td>9</td>\n",
       "    </tr>\n",
       "    <tr>\n",
       "      <th>6</th>\n",
       "      <td>0.004195</td>\n",
       "      <td>0.001168</td>\n",
       "      <td>0.001995</td>\n",
       "      <td>0.000632</td>\n",
       "      <td>4</td>\n",
       "      <td>0.5</td>\n",
       "      <td>{'max_depth': 4, 'max_features': 0.5}</td>\n",
       "      <td>0.788618</td>\n",
       "      <td>0.886179</td>\n",
       "      <td>0.804878</td>\n",
       "      <td>0.878049</td>\n",
       "      <td>0.918033</td>\n",
       "      <td>0.855151</td>\n",
       "      <td>0.049790</td>\n",
       "      <td>9</td>\n",
       "    </tr>\n",
       "    <tr>\n",
       "      <th>21</th>\n",
       "      <td>0.003406</td>\n",
       "      <td>0.000507</td>\n",
       "      <td>0.002192</td>\n",
       "      <td>0.000401</td>\n",
       "      <td>7</td>\n",
       "      <td>0.5</td>\n",
       "      <td>{'max_depth': 7, 'max_features': 0.5}</td>\n",
       "      <td>0.845528</td>\n",
       "      <td>0.886179</td>\n",
       "      <td>0.821138</td>\n",
       "      <td>0.853659</td>\n",
       "      <td>0.860656</td>\n",
       "      <td>0.853432</td>\n",
       "      <td>0.021118</td>\n",
       "      <td>11</td>\n",
       "    </tr>\n",
       "    <tr>\n",
       "      <th>23</th>\n",
       "      <td>0.004006</td>\n",
       "      <td>0.000015</td>\n",
       "      <td>0.001995</td>\n",
       "      <td>0.000630</td>\n",
       "      <td>7</td>\n",
       "      <td>0.9</td>\n",
       "      <td>{'max_depth': 7, 'max_features': 0.9}</td>\n",
       "      <td>0.829268</td>\n",
       "      <td>0.902439</td>\n",
       "      <td>0.829268</td>\n",
       "      <td>0.853659</td>\n",
       "      <td>0.852459</td>\n",
       "      <td>0.853419</td>\n",
       "      <td>0.026722</td>\n",
       "      <td>12</td>\n",
       "    </tr>\n",
       "    <tr>\n",
       "      <th>28</th>\n",
       "      <td>0.005796</td>\n",
       "      <td>0.001470</td>\n",
       "      <td>0.002606</td>\n",
       "      <td>0.000807</td>\n",
       "      <td>8</td>\n",
       "      <td>0.9</td>\n",
       "      <td>{'max_depth': 8, 'max_features': 0.9}</td>\n",
       "      <td>0.861789</td>\n",
       "      <td>0.853659</td>\n",
       "      <td>0.821138</td>\n",
       "      <td>0.853659</td>\n",
       "      <td>0.868852</td>\n",
       "      <td>0.851819</td>\n",
       "      <td>0.016356</td>\n",
       "      <td>13</td>\n",
       "    </tr>\n",
       "    <tr>\n",
       "      <th>36</th>\n",
       "      <td>0.004990</td>\n",
       "      <td>0.001904</td>\n",
       "      <td>0.001603</td>\n",
       "      <td>0.000495</td>\n",
       "      <td>10</td>\n",
       "      <td>0.5</td>\n",
       "      <td>{'max_depth': 10, 'max_features': 0.5}</td>\n",
       "      <td>0.853659</td>\n",
       "      <td>0.894309</td>\n",
       "      <td>0.780488</td>\n",
       "      <td>0.861789</td>\n",
       "      <td>0.868852</td>\n",
       "      <td>0.851819</td>\n",
       "      <td>0.038174</td>\n",
       "      <td>13</td>\n",
       "    </tr>\n",
       "    <tr>\n",
       "      <th>32</th>\n",
       "      <td>0.007498</td>\n",
       "      <td>0.006272</td>\n",
       "      <td>0.001897</td>\n",
       "      <td>0.000196</td>\n",
       "      <td>9</td>\n",
       "      <td>0.7</td>\n",
       "      <td>{'max_depth': 9, 'max_features': 0.7}</td>\n",
       "      <td>0.821138</td>\n",
       "      <td>0.878049</td>\n",
       "      <td>0.861789</td>\n",
       "      <td>0.853659</td>\n",
       "      <td>0.844262</td>\n",
       "      <td>0.851779</td>\n",
       "      <td>0.018917</td>\n",
       "      <td>15</td>\n",
       "    </tr>\n",
       "    <tr>\n",
       "      <th>22</th>\n",
       "      <td>0.003995</td>\n",
       "      <td>0.000641</td>\n",
       "      <td>0.002001</td>\n",
       "      <td>0.000641</td>\n",
       "      <td>7</td>\n",
       "      <td>0.7</td>\n",
       "      <td>{'max_depth': 7, 'max_features': 0.7}</td>\n",
       "      <td>0.804878</td>\n",
       "      <td>0.853659</td>\n",
       "      <td>0.804878</td>\n",
       "      <td>0.869919</td>\n",
       "      <td>0.918033</td>\n",
       "      <td>0.850273</td>\n",
       "      <td>0.042685</td>\n",
       "      <td>16</td>\n",
       "    </tr>\n",
       "    <tr>\n",
       "      <th>38</th>\n",
       "      <td>0.007308</td>\n",
       "      <td>0.004289</td>\n",
       "      <td>0.004615</td>\n",
       "      <td>0.003405</td>\n",
       "      <td>10</td>\n",
       "      <td>0.9</td>\n",
       "      <td>{'max_depth': 10, 'max_features': 0.9}</td>\n",
       "      <td>0.821138</td>\n",
       "      <td>0.878049</td>\n",
       "      <td>0.796748</td>\n",
       "      <td>0.878049</td>\n",
       "      <td>0.860656</td>\n",
       "      <td>0.846928</td>\n",
       "      <td>0.032584</td>\n",
       "      <td>17</td>\n",
       "    </tr>\n",
       "    <tr>\n",
       "      <th>43</th>\n",
       "      <td>0.005585</td>\n",
       "      <td>0.001354</td>\n",
       "      <td>0.002611</td>\n",
       "      <td>0.000820</td>\n",
       "      <td>11</td>\n",
       "      <td>0.9</td>\n",
       "      <td>{'max_depth': 11, 'max_features': 0.9}</td>\n",
       "      <td>0.821138</td>\n",
       "      <td>0.878049</td>\n",
       "      <td>0.796748</td>\n",
       "      <td>0.878049</td>\n",
       "      <td>0.860656</td>\n",
       "      <td>0.846928</td>\n",
       "      <td>0.032584</td>\n",
       "      <td>17</td>\n",
       "    </tr>\n",
       "    <tr>\n",
       "      <th>13</th>\n",
       "      <td>0.004010</td>\n",
       "      <td>0.000017</td>\n",
       "      <td>0.001397</td>\n",
       "      <td>0.000489</td>\n",
       "      <td>5</td>\n",
       "      <td>0.9</td>\n",
       "      <td>{'max_depth': 5, 'max_features': 0.9}</td>\n",
       "      <td>0.853659</td>\n",
       "      <td>0.878049</td>\n",
       "      <td>0.788618</td>\n",
       "      <td>0.853659</td>\n",
       "      <td>0.852459</td>\n",
       "      <td>0.845289</td>\n",
       "      <td>0.029921</td>\n",
       "      <td>19</td>\n",
       "    </tr>\n",
       "    <tr>\n",
       "      <th>37</th>\n",
       "      <td>0.004209</td>\n",
       "      <td>0.000757</td>\n",
       "      <td>0.002191</td>\n",
       "      <td>0.000747</td>\n",
       "      <td>10</td>\n",
       "      <td>0.7</td>\n",
       "      <td>{'max_depth': 10, 'max_features': 0.7}</td>\n",
       "      <td>0.829268</td>\n",
       "      <td>0.845528</td>\n",
       "      <td>0.829268</td>\n",
       "      <td>0.853659</td>\n",
       "      <td>0.860656</td>\n",
       "      <td>0.843676</td>\n",
       "      <td>0.012701</td>\n",
       "      <td>20</td>\n",
       "    </tr>\n",
       "    <tr>\n",
       "      <th>33</th>\n",
       "      <td>0.007203</td>\n",
       "      <td>0.006911</td>\n",
       "      <td>0.002404</td>\n",
       "      <td>0.001014</td>\n",
       "      <td>9</td>\n",
       "      <td>0.9</td>\n",
       "      <td>{'max_depth': 9, 'max_features': 0.9}</td>\n",
       "      <td>0.829268</td>\n",
       "      <td>0.845528</td>\n",
       "      <td>0.796748</td>\n",
       "      <td>0.878049</td>\n",
       "      <td>0.860656</td>\n",
       "      <td>0.842050</td>\n",
       "      <td>0.027820</td>\n",
       "      <td>21</td>\n",
       "    </tr>\n",
       "    <tr>\n",
       "      <th>16</th>\n",
       "      <td>0.003896</td>\n",
       "      <td>0.000923</td>\n",
       "      <td>0.001997</td>\n",
       "      <td>0.000002</td>\n",
       "      <td>6</td>\n",
       "      <td>0.5</td>\n",
       "      <td>{'max_depth': 6, 'max_features': 0.5}</td>\n",
       "      <td>0.796748</td>\n",
       "      <td>0.910569</td>\n",
       "      <td>0.772358</td>\n",
       "      <td>0.861789</td>\n",
       "      <td>0.860656</td>\n",
       "      <td>0.840424</td>\n",
       "      <td>0.049652</td>\n",
       "      <td>22</td>\n",
       "    </tr>\n",
       "    <tr>\n",
       "      <th>42</th>\n",
       "      <td>0.006313</td>\n",
       "      <td>0.002969</td>\n",
       "      <td>0.002599</td>\n",
       "      <td>0.001214</td>\n",
       "      <td>11</td>\n",
       "      <td>0.7</td>\n",
       "      <td>{'max_depth': 11, 'max_features': 0.7}</td>\n",
       "      <td>0.829268</td>\n",
       "      <td>0.845528</td>\n",
       "      <td>0.829268</td>\n",
       "      <td>0.853659</td>\n",
       "      <td>0.844262</td>\n",
       "      <td>0.840397</td>\n",
       "      <td>0.009642</td>\n",
       "      <td>23</td>\n",
       "    </tr>\n",
       "    <tr>\n",
       "      <th>35</th>\n",
       "      <td>0.002899</td>\n",
       "      <td>0.000199</td>\n",
       "      <td>0.002098</td>\n",
       "      <td>0.000205</td>\n",
       "      <td>10</td>\n",
       "      <td>0.3</td>\n",
       "      <td>{'max_depth': 10, 'max_features': 0.3}</td>\n",
       "      <td>0.788618</td>\n",
       "      <td>0.918699</td>\n",
       "      <td>0.780488</td>\n",
       "      <td>0.869919</td>\n",
       "      <td>0.844262</td>\n",
       "      <td>0.840397</td>\n",
       "      <td>0.051552</td>\n",
       "      <td>23</td>\n",
       "    </tr>\n",
       "    <tr>\n",
       "      <th>41</th>\n",
       "      <td>0.006027</td>\n",
       "      <td>0.002591</td>\n",
       "      <td>0.004389</td>\n",
       "      <td>0.004331</td>\n",
       "      <td>11</td>\n",
       "      <td>0.5</td>\n",
       "      <td>{'max_depth': 11, 'max_features': 0.5}</td>\n",
       "      <td>0.837398</td>\n",
       "      <td>0.837398</td>\n",
       "      <td>0.780488</td>\n",
       "      <td>0.869919</td>\n",
       "      <td>0.868852</td>\n",
       "      <td>0.838811</td>\n",
       "      <td>0.032483</td>\n",
       "      <td>25</td>\n",
       "    </tr>\n",
       "    <tr>\n",
       "      <th>20</th>\n",
       "      <td>0.003597</td>\n",
       "      <td>0.000591</td>\n",
       "      <td>0.001807</td>\n",
       "      <td>0.000247</td>\n",
       "      <td>7</td>\n",
       "      <td>0.3</td>\n",
       "      <td>{'max_depth': 7, 'max_features': 0.3}</td>\n",
       "      <td>0.813008</td>\n",
       "      <td>0.861789</td>\n",
       "      <td>0.813008</td>\n",
       "      <td>0.821138</td>\n",
       "      <td>0.868852</td>\n",
       "      <td>0.835559</td>\n",
       "      <td>0.024582</td>\n",
       "      <td>26</td>\n",
       "    </tr>\n",
       "    <tr>\n",
       "      <th>26</th>\n",
       "      <td>0.004403</td>\n",
       "      <td>0.001022</td>\n",
       "      <td>0.001592</td>\n",
       "      <td>0.000485</td>\n",
       "      <td>8</td>\n",
       "      <td>0.5</td>\n",
       "      <td>{'max_depth': 8, 'max_features': 0.5}</td>\n",
       "      <td>0.869919</td>\n",
       "      <td>0.861789</td>\n",
       "      <td>0.780488</td>\n",
       "      <td>0.837398</td>\n",
       "      <td>0.827869</td>\n",
       "      <td>0.835492</td>\n",
       "      <td>0.031508</td>\n",
       "      <td>27</td>\n",
       "    </tr>\n",
       "    <tr>\n",
       "      <th>3</th>\n",
       "      <td>0.004788</td>\n",
       "      <td>0.000746</td>\n",
       "      <td>0.002194</td>\n",
       "      <td>0.000399</td>\n",
       "      <td>3</td>\n",
       "      <td>0.9</td>\n",
       "      <td>{'max_depth': 3, 'max_features': 0.9}</td>\n",
       "      <td>0.788618</td>\n",
       "      <td>0.902439</td>\n",
       "      <td>0.804878</td>\n",
       "      <td>0.813008</td>\n",
       "      <td>0.819672</td>\n",
       "      <td>0.825723</td>\n",
       "      <td>0.039736</td>\n",
       "      <td>28</td>\n",
       "    </tr>\n",
       "    <tr>\n",
       "      <th>2</th>\n",
       "      <td>0.004986</td>\n",
       "      <td>0.000631</td>\n",
       "      <td>0.001995</td>\n",
       "      <td>0.000001</td>\n",
       "      <td>3</td>\n",
       "      <td>0.7</td>\n",
       "      <td>{'max_depth': 3, 'max_features': 0.7}</td>\n",
       "      <td>0.780488</td>\n",
       "      <td>0.902439</td>\n",
       "      <td>0.804878</td>\n",
       "      <td>0.788618</td>\n",
       "      <td>0.844262</td>\n",
       "      <td>0.824137</td>\n",
       "      <td>0.044887</td>\n",
       "      <td>29</td>\n",
       "    </tr>\n",
       "    <tr>\n",
       "      <th>5</th>\n",
       "      <td>0.007580</td>\n",
       "      <td>0.003657</td>\n",
       "      <td>0.002400</td>\n",
       "      <td>0.001029</td>\n",
       "      <td>4</td>\n",
       "      <td>0.3</td>\n",
       "      <td>{'max_depth': 4, 'max_features': 0.3}</td>\n",
       "      <td>0.821138</td>\n",
       "      <td>0.894309</td>\n",
       "      <td>0.756098</td>\n",
       "      <td>0.813008</td>\n",
       "      <td>0.836066</td>\n",
       "      <td>0.824124</td>\n",
       "      <td>0.044336</td>\n",
       "      <td>30</td>\n",
       "    </tr>\n",
       "    <tr>\n",
       "      <th>40</th>\n",
       "      <td>0.004903</td>\n",
       "      <td>0.001033</td>\n",
       "      <td>0.002194</td>\n",
       "      <td>0.000746</td>\n",
       "      <td>11</td>\n",
       "      <td>0.3</td>\n",
       "      <td>{'max_depth': 11, 'max_features': 0.3}</td>\n",
       "      <td>0.772358</td>\n",
       "      <td>0.878049</td>\n",
       "      <td>0.756098</td>\n",
       "      <td>0.869919</td>\n",
       "      <td>0.836066</td>\n",
       "      <td>0.822498</td>\n",
       "      <td>0.049883</td>\n",
       "      <td>31</td>\n",
       "    </tr>\n",
       "    <tr>\n",
       "      <th>30</th>\n",
       "      <td>0.004713</td>\n",
       "      <td>0.001832</td>\n",
       "      <td>0.003191</td>\n",
       "      <td>0.002129</td>\n",
       "      <td>9</td>\n",
       "      <td>0.3</td>\n",
       "      <td>{'max_depth': 9, 'max_features': 0.3}</td>\n",
       "      <td>0.821138</td>\n",
       "      <td>0.804878</td>\n",
       "      <td>0.723577</td>\n",
       "      <td>0.837398</td>\n",
       "      <td>0.811475</td>\n",
       "      <td>0.799693</td>\n",
       "      <td>0.039600</td>\n",
       "      <td>32</td>\n",
       "    </tr>\n",
       "    <tr>\n",
       "      <th>25</th>\n",
       "      <td>0.003694</td>\n",
       "      <td>0.000606</td>\n",
       "      <td>0.001904</td>\n",
       "      <td>0.000672</td>\n",
       "      <td>8</td>\n",
       "      <td>0.3</td>\n",
       "      <td>{'max_depth': 8, 'max_features': 0.3}</td>\n",
       "      <td>0.821138</td>\n",
       "      <td>0.910569</td>\n",
       "      <td>0.747967</td>\n",
       "      <td>0.715447</td>\n",
       "      <td>0.803279</td>\n",
       "      <td>0.799680</td>\n",
       "      <td>0.067140</td>\n",
       "      <td>33</td>\n",
       "    </tr>\n",
       "    <tr>\n",
       "      <th>0</th>\n",
       "      <td>0.004987</td>\n",
       "      <td>0.001093</td>\n",
       "      <td>0.002194</td>\n",
       "      <td>0.000977</td>\n",
       "      <td>3</td>\n",
       "      <td>0.3</td>\n",
       "      <td>{'max_depth': 3, 'max_features': 0.3}</td>\n",
       "      <td>0.747967</td>\n",
       "      <td>0.845528</td>\n",
       "      <td>0.764228</td>\n",
       "      <td>0.772358</td>\n",
       "      <td>0.852459</td>\n",
       "      <td>0.796508</td>\n",
       "      <td>0.043623</td>\n",
       "      <td>34</td>\n",
       "    </tr>\n",
       "    <tr>\n",
       "      <th>10</th>\n",
       "      <td>0.004200</td>\n",
       "      <td>0.000731</td>\n",
       "      <td>0.002606</td>\n",
       "      <td>0.001189</td>\n",
       "      <td>5</td>\n",
       "      <td>0.3</td>\n",
       "      <td>{'max_depth': 5, 'max_features': 0.3}</td>\n",
       "      <td>0.772358</td>\n",
       "      <td>0.845528</td>\n",
       "      <td>0.756098</td>\n",
       "      <td>0.772358</td>\n",
       "      <td>0.827869</td>\n",
       "      <td>0.794842</td>\n",
       "      <td>0.035134</td>\n",
       "      <td>35</td>\n",
       "    </tr>\n",
       "    <tr>\n",
       "      <th>15</th>\n",
       "      <td>0.007397</td>\n",
       "      <td>0.005005</td>\n",
       "      <td>0.001796</td>\n",
       "      <td>0.000399</td>\n",
       "      <td>6</td>\n",
       "      <td>0.3</td>\n",
       "      <td>{'max_depth': 6, 'max_features': 0.3}</td>\n",
       "      <td>0.731707</td>\n",
       "      <td>0.813008</td>\n",
       "      <td>0.772358</td>\n",
       "      <td>0.804878</td>\n",
       "      <td>0.836066</td>\n",
       "      <td>0.791603</td>\n",
       "      <td>0.036247</td>\n",
       "      <td>36</td>\n",
       "    </tr>\n",
       "    <tr>\n",
       "      <th>44</th>\n",
       "      <td>0.004198</td>\n",
       "      <td>0.000408</td>\n",
       "      <td>0.002798</td>\n",
       "      <td>0.002141</td>\n",
       "      <td>11</td>\n",
       "      <td>1</td>\n",
       "      <td>{'max_depth': 11, 'max_features': 1}</td>\n",
       "      <td>0.715447</td>\n",
       "      <td>0.780488</td>\n",
       "      <td>0.699187</td>\n",
       "      <td>0.821138</td>\n",
       "      <td>0.795082</td>\n",
       "      <td>0.762268</td>\n",
       "      <td>0.047002</td>\n",
       "      <td>37</td>\n",
       "    </tr>\n",
       "    <tr>\n",
       "      <th>39</th>\n",
       "      <td>0.012016</td>\n",
       "      <td>0.012052</td>\n",
       "      <td>0.002395</td>\n",
       "      <td>0.000806</td>\n",
       "      <td>10</td>\n",
       "      <td>1</td>\n",
       "      <td>{'max_depth': 10, 'max_features': 1}</td>\n",
       "      <td>0.682927</td>\n",
       "      <td>0.804878</td>\n",
       "      <td>0.715447</td>\n",
       "      <td>0.723577</td>\n",
       "      <td>0.786885</td>\n",
       "      <td>0.742743</td>\n",
       "      <td>0.045825</td>\n",
       "      <td>38</td>\n",
       "    </tr>\n",
       "    <tr>\n",
       "      <th>29</th>\n",
       "      <td>0.004896</td>\n",
       "      <td>0.001746</td>\n",
       "      <td>0.008194</td>\n",
       "      <td>0.012904</td>\n",
       "      <td>8</td>\n",
       "      <td>1</td>\n",
       "      <td>{'max_depth': 8, 'max_features': 1}</td>\n",
       "      <td>0.715447</td>\n",
       "      <td>0.813008</td>\n",
       "      <td>0.707317</td>\n",
       "      <td>0.723577</td>\n",
       "      <td>0.745902</td>\n",
       "      <td>0.741050</td>\n",
       "      <td>0.038211</td>\n",
       "      <td>39</td>\n",
       "    </tr>\n",
       "    <tr>\n",
       "      <th>19</th>\n",
       "      <td>0.004209</td>\n",
       "      <td>0.000745</td>\n",
       "      <td>0.001801</td>\n",
       "      <td>0.000403</td>\n",
       "      <td>6</td>\n",
       "      <td>1</td>\n",
       "      <td>{'max_depth': 6, 'max_features': 1}</td>\n",
       "      <td>0.715447</td>\n",
       "      <td>0.764228</td>\n",
       "      <td>0.666667</td>\n",
       "      <td>0.731707</td>\n",
       "      <td>0.762295</td>\n",
       "      <td>0.728069</td>\n",
       "      <td>0.035838</td>\n",
       "      <td>40</td>\n",
       "    </tr>\n",
       "    <tr>\n",
       "      <th>34</th>\n",
       "      <td>0.004991</td>\n",
       "      <td>0.001985</td>\n",
       "      <td>0.002203</td>\n",
       "      <td>0.000417</td>\n",
       "      <td>9</td>\n",
       "      <td>1</td>\n",
       "      <td>{'max_depth': 9, 'max_features': 1}</td>\n",
       "      <td>0.764228</td>\n",
       "      <td>0.747967</td>\n",
       "      <td>0.715447</td>\n",
       "      <td>0.715447</td>\n",
       "      <td>0.680328</td>\n",
       "      <td>0.724683</td>\n",
       "      <td>0.029134</td>\n",
       "      <td>41</td>\n",
       "    </tr>\n",
       "    <tr>\n",
       "      <th>9</th>\n",
       "      <td>0.004291</td>\n",
       "      <td>0.000978</td>\n",
       "      <td>0.001994</td>\n",
       "      <td>0.000001</td>\n",
       "      <td>4</td>\n",
       "      <td>1</td>\n",
       "      <td>{'max_depth': 4, 'max_features': 1}</td>\n",
       "      <td>0.723577</td>\n",
       "      <td>0.747967</td>\n",
       "      <td>0.715447</td>\n",
       "      <td>0.707317</td>\n",
       "      <td>0.704918</td>\n",
       "      <td>0.719845</td>\n",
       "      <td>0.015517</td>\n",
       "      <td>42</td>\n",
       "    </tr>\n",
       "    <tr>\n",
       "      <th>14</th>\n",
       "      <td>0.003605</td>\n",
       "      <td>0.000500</td>\n",
       "      <td>0.002005</td>\n",
       "      <td>0.000644</td>\n",
       "      <td>5</td>\n",
       "      <td>1</td>\n",
       "      <td>{'max_depth': 5, 'max_features': 1}</td>\n",
       "      <td>0.707317</td>\n",
       "      <td>0.658537</td>\n",
       "      <td>0.707317</td>\n",
       "      <td>0.731707</td>\n",
       "      <td>0.729508</td>\n",
       "      <td>0.706877</td>\n",
       "      <td>0.026328</td>\n",
       "      <td>43</td>\n",
       "    </tr>\n",
       "    <tr>\n",
       "      <th>24</th>\n",
       "      <td>0.002987</td>\n",
       "      <td>0.000006</td>\n",
       "      <td>0.002108</td>\n",
       "      <td>0.000205</td>\n",
       "      <td>7</td>\n",
       "      <td>1</td>\n",
       "      <td>{'max_depth': 7, 'max_features': 1}</td>\n",
       "      <td>0.723577</td>\n",
       "      <td>0.691057</td>\n",
       "      <td>0.674797</td>\n",
       "      <td>0.707317</td>\n",
       "      <td>0.704918</td>\n",
       "      <td>0.700333</td>\n",
       "      <td>0.016421</td>\n",
       "      <td>44</td>\n",
       "    </tr>\n",
       "    <tr>\n",
       "      <th>4</th>\n",
       "      <td>0.004388</td>\n",
       "      <td>0.000487</td>\n",
       "      <td>0.002194</td>\n",
       "      <td>0.000398</td>\n",
       "      <td>3</td>\n",
       "      <td>1</td>\n",
       "      <td>{'max_depth': 3, 'max_features': 1}</td>\n",
       "      <td>0.691057</td>\n",
       "      <td>0.642276</td>\n",
       "      <td>0.699187</td>\n",
       "      <td>0.723577</td>\n",
       "      <td>0.647541</td>\n",
       "      <td>0.680728</td>\n",
       "      <td>0.031188</td>\n",
       "      <td>45</td>\n",
       "    </tr>\n",
       "  </tbody>\n",
       "</table>\n",
       "</div>"
      ],
      "text/plain": [
       "    mean_fit_time  std_fit_time  mean_score_time  std_score_time  \\\n",
       "12       0.003600      0.000477         0.001999        0.000642   \n",
       "7        0.004602      0.001750         0.002210        0.000391   \n",
       "8        0.006207      0.003453         0.002297        0.000398   \n",
       "18       0.012797      0.016607         0.002200        0.000989   \n",
       "27       0.004000      0.000643         0.002110        0.000207   \n",
       "17       0.004300      0.000396         0.002106        0.000199   \n",
       "31       0.004808      0.001174         0.001794        0.000398   \n",
       "11       0.003594      0.000584         0.002401        0.000497   \n",
       "1        0.005585      0.001849         0.001795        0.000398   \n",
       "6        0.004195      0.001168         0.001995        0.000632   \n",
       "21       0.003406      0.000507         0.002192        0.000401   \n",
       "23       0.004006      0.000015         0.001995        0.000630   \n",
       "28       0.005796      0.001470         0.002606        0.000807   \n",
       "36       0.004990      0.001904         0.001603        0.000495   \n",
       "32       0.007498      0.006272         0.001897        0.000196   \n",
       "22       0.003995      0.000641         0.002001        0.000641   \n",
       "38       0.007308      0.004289         0.004615        0.003405   \n",
       "43       0.005585      0.001354         0.002611        0.000820   \n",
       "13       0.004010      0.000017         0.001397        0.000489   \n",
       "37       0.004209      0.000757         0.002191        0.000747   \n",
       "33       0.007203      0.006911         0.002404        0.001014   \n",
       "16       0.003896      0.000923         0.001997        0.000002   \n",
       "42       0.006313      0.002969         0.002599        0.001214   \n",
       "35       0.002899      0.000199         0.002098        0.000205   \n",
       "41       0.006027      0.002591         0.004389        0.004331   \n",
       "20       0.003597      0.000591         0.001807        0.000247   \n",
       "26       0.004403      0.001022         0.001592        0.000485   \n",
       "3        0.004788      0.000746         0.002194        0.000399   \n",
       "2        0.004986      0.000631         0.001995        0.000001   \n",
       "5        0.007580      0.003657         0.002400        0.001029   \n",
       "40       0.004903      0.001033         0.002194        0.000746   \n",
       "30       0.004713      0.001832         0.003191        0.002129   \n",
       "25       0.003694      0.000606         0.001904        0.000672   \n",
       "0        0.004987      0.001093         0.002194        0.000977   \n",
       "10       0.004200      0.000731         0.002606        0.001189   \n",
       "15       0.007397      0.005005         0.001796        0.000399   \n",
       "44       0.004198      0.000408         0.002798        0.002141   \n",
       "39       0.012016      0.012052         0.002395        0.000806   \n",
       "29       0.004896      0.001746         0.008194        0.012904   \n",
       "19       0.004209      0.000745         0.001801        0.000403   \n",
       "34       0.004991      0.001985         0.002203        0.000417   \n",
       "9        0.004291      0.000978         0.001994        0.000001   \n",
       "14       0.003605      0.000500         0.002005        0.000644   \n",
       "24       0.002987      0.000006         0.002108        0.000205   \n",
       "4        0.004388      0.000487         0.002194        0.000398   \n",
       "\n",
       "   param_max_depth param_max_features                                  params  \\\n",
       "12               5                0.7   {'max_depth': 5, 'max_features': 0.7}   \n",
       "7                4                0.7   {'max_depth': 4, 'max_features': 0.7}   \n",
       "8                4                0.9   {'max_depth': 4, 'max_features': 0.9}   \n",
       "18               6                0.9   {'max_depth': 6, 'max_features': 0.9}   \n",
       "27               8                0.7   {'max_depth': 8, 'max_features': 0.7}   \n",
       "17               6                0.7   {'max_depth': 6, 'max_features': 0.7}   \n",
       "31               9                0.5   {'max_depth': 9, 'max_features': 0.5}   \n",
       "11               5                0.5   {'max_depth': 5, 'max_features': 0.5}   \n",
       "1                3                0.5   {'max_depth': 3, 'max_features': 0.5}   \n",
       "6                4                0.5   {'max_depth': 4, 'max_features': 0.5}   \n",
       "21               7                0.5   {'max_depth': 7, 'max_features': 0.5}   \n",
       "23               7                0.9   {'max_depth': 7, 'max_features': 0.9}   \n",
       "28               8                0.9   {'max_depth': 8, 'max_features': 0.9}   \n",
       "36              10                0.5  {'max_depth': 10, 'max_features': 0.5}   \n",
       "32               9                0.7   {'max_depth': 9, 'max_features': 0.7}   \n",
       "22               7                0.7   {'max_depth': 7, 'max_features': 0.7}   \n",
       "38              10                0.9  {'max_depth': 10, 'max_features': 0.9}   \n",
       "43              11                0.9  {'max_depth': 11, 'max_features': 0.9}   \n",
       "13               5                0.9   {'max_depth': 5, 'max_features': 0.9}   \n",
       "37              10                0.7  {'max_depth': 10, 'max_features': 0.7}   \n",
       "33               9                0.9   {'max_depth': 9, 'max_features': 0.9}   \n",
       "16               6                0.5   {'max_depth': 6, 'max_features': 0.5}   \n",
       "42              11                0.7  {'max_depth': 11, 'max_features': 0.7}   \n",
       "35              10                0.3  {'max_depth': 10, 'max_features': 0.3}   \n",
       "41              11                0.5  {'max_depth': 11, 'max_features': 0.5}   \n",
       "20               7                0.3   {'max_depth': 7, 'max_features': 0.3}   \n",
       "26               8                0.5   {'max_depth': 8, 'max_features': 0.5}   \n",
       "3                3                0.9   {'max_depth': 3, 'max_features': 0.9}   \n",
       "2                3                0.7   {'max_depth': 3, 'max_features': 0.7}   \n",
       "5                4                0.3   {'max_depth': 4, 'max_features': 0.3}   \n",
       "40              11                0.3  {'max_depth': 11, 'max_features': 0.3}   \n",
       "30               9                0.3   {'max_depth': 9, 'max_features': 0.3}   \n",
       "25               8                0.3   {'max_depth': 8, 'max_features': 0.3}   \n",
       "0                3                0.3   {'max_depth': 3, 'max_features': 0.3}   \n",
       "10               5                0.3   {'max_depth': 5, 'max_features': 0.3}   \n",
       "15               6                0.3   {'max_depth': 6, 'max_features': 0.3}   \n",
       "44              11                  1    {'max_depth': 11, 'max_features': 1}   \n",
       "39              10                  1    {'max_depth': 10, 'max_features': 1}   \n",
       "29               8                  1     {'max_depth': 8, 'max_features': 1}   \n",
       "19               6                  1     {'max_depth': 6, 'max_features': 1}   \n",
       "34               9                  1     {'max_depth': 9, 'max_features': 1}   \n",
       "9                4                  1     {'max_depth': 4, 'max_features': 1}   \n",
       "14               5                  1     {'max_depth': 5, 'max_features': 1}   \n",
       "24               7                  1     {'max_depth': 7, 'max_features': 1}   \n",
       "4                3                  1     {'max_depth': 3, 'max_features': 1}   \n",
       "\n",
       "    split0_test_score  split1_test_score  split2_test_score  \\\n",
       "12           0.878049           0.910569           0.813008   \n",
       "7            0.813008           0.886179           0.829268   \n",
       "8            0.821138           0.886179           0.853659   \n",
       "18           0.829268           0.894309           0.821138   \n",
       "27           0.861789           0.878049           0.837398   \n",
       "17           0.861789           0.869919           0.804878   \n",
       "31           0.853659           0.902439           0.780488   \n",
       "11           0.837398           0.878049           0.821138   \n",
       "1            0.780488           0.910569           0.813008   \n",
       "6            0.788618           0.886179           0.804878   \n",
       "21           0.845528           0.886179           0.821138   \n",
       "23           0.829268           0.902439           0.829268   \n",
       "28           0.861789           0.853659           0.821138   \n",
       "36           0.853659           0.894309           0.780488   \n",
       "32           0.821138           0.878049           0.861789   \n",
       "22           0.804878           0.853659           0.804878   \n",
       "38           0.821138           0.878049           0.796748   \n",
       "43           0.821138           0.878049           0.796748   \n",
       "13           0.853659           0.878049           0.788618   \n",
       "37           0.829268           0.845528           0.829268   \n",
       "33           0.829268           0.845528           0.796748   \n",
       "16           0.796748           0.910569           0.772358   \n",
       "42           0.829268           0.845528           0.829268   \n",
       "35           0.788618           0.918699           0.780488   \n",
       "41           0.837398           0.837398           0.780488   \n",
       "20           0.813008           0.861789           0.813008   \n",
       "26           0.869919           0.861789           0.780488   \n",
       "3            0.788618           0.902439           0.804878   \n",
       "2            0.780488           0.902439           0.804878   \n",
       "5            0.821138           0.894309           0.756098   \n",
       "40           0.772358           0.878049           0.756098   \n",
       "30           0.821138           0.804878           0.723577   \n",
       "25           0.821138           0.910569           0.747967   \n",
       "0            0.747967           0.845528           0.764228   \n",
       "10           0.772358           0.845528           0.756098   \n",
       "15           0.731707           0.813008           0.772358   \n",
       "44           0.715447           0.780488           0.699187   \n",
       "39           0.682927           0.804878           0.715447   \n",
       "29           0.715447           0.813008           0.707317   \n",
       "19           0.715447           0.764228           0.666667   \n",
       "34           0.764228           0.747967           0.715447   \n",
       "9            0.723577           0.747967           0.715447   \n",
       "14           0.707317           0.658537           0.707317   \n",
       "24           0.723577           0.691057           0.674797   \n",
       "4            0.691057           0.642276           0.699187   \n",
       "\n",
       "    split3_test_score  split4_test_score  mean_test_score  std_test_score  \\\n",
       "12           0.837398           0.893443         0.866493        0.036082   \n",
       "7            0.861789           0.918033         0.861655        0.037935   \n",
       "8            0.853659           0.893443         0.861615        0.026005   \n",
       "18           0.878049           0.877049         0.859963        0.029149   \n",
       "27           0.853659           0.860656         0.858310        0.013162   \n",
       "17           0.894309           0.860656         0.858310        0.029337   \n",
       "31           0.861789           0.885246         0.856724        0.041834   \n",
       "11           0.878049           0.868852         0.856697        0.023222   \n",
       "1            0.853659           0.918033         0.855151        0.053625   \n",
       "6            0.878049           0.918033         0.855151        0.049790   \n",
       "21           0.853659           0.860656         0.853432        0.021118   \n",
       "23           0.853659           0.852459         0.853419        0.026722   \n",
       "28           0.853659           0.868852         0.851819        0.016356   \n",
       "36           0.861789           0.868852         0.851819        0.038174   \n",
       "32           0.853659           0.844262         0.851779        0.018917   \n",
       "22           0.869919           0.918033         0.850273        0.042685   \n",
       "38           0.878049           0.860656         0.846928        0.032584   \n",
       "43           0.878049           0.860656         0.846928        0.032584   \n",
       "13           0.853659           0.852459         0.845289        0.029921   \n",
       "37           0.853659           0.860656         0.843676        0.012701   \n",
       "33           0.878049           0.860656         0.842050        0.027820   \n",
       "16           0.861789           0.860656         0.840424        0.049652   \n",
       "42           0.853659           0.844262         0.840397        0.009642   \n",
       "35           0.869919           0.844262         0.840397        0.051552   \n",
       "41           0.869919           0.868852         0.838811        0.032483   \n",
       "20           0.821138           0.868852         0.835559        0.024582   \n",
       "26           0.837398           0.827869         0.835492        0.031508   \n",
       "3            0.813008           0.819672         0.825723        0.039736   \n",
       "2            0.788618           0.844262         0.824137        0.044887   \n",
       "5            0.813008           0.836066         0.824124        0.044336   \n",
       "40           0.869919           0.836066         0.822498        0.049883   \n",
       "30           0.837398           0.811475         0.799693        0.039600   \n",
       "25           0.715447           0.803279         0.799680        0.067140   \n",
       "0            0.772358           0.852459         0.796508        0.043623   \n",
       "10           0.772358           0.827869         0.794842        0.035134   \n",
       "15           0.804878           0.836066         0.791603        0.036247   \n",
       "44           0.821138           0.795082         0.762268        0.047002   \n",
       "39           0.723577           0.786885         0.742743        0.045825   \n",
       "29           0.723577           0.745902         0.741050        0.038211   \n",
       "19           0.731707           0.762295         0.728069        0.035838   \n",
       "34           0.715447           0.680328         0.724683        0.029134   \n",
       "9            0.707317           0.704918         0.719845        0.015517   \n",
       "14           0.731707           0.729508         0.706877        0.026328   \n",
       "24           0.707317           0.704918         0.700333        0.016421   \n",
       "4            0.723577           0.647541         0.680728        0.031188   \n",
       "\n",
       "    rank_test_score  \n",
       "12                1  \n",
       "7                 2  \n",
       "8                 3  \n",
       "18                4  \n",
       "27                5  \n",
       "17                5  \n",
       "31                7  \n",
       "11                8  \n",
       "1                 9  \n",
       "6                 9  \n",
       "21               11  \n",
       "23               12  \n",
       "28               13  \n",
       "36               13  \n",
       "32               15  \n",
       "22               16  \n",
       "38               17  \n",
       "43               17  \n",
       "13               19  \n",
       "37               20  \n",
       "33               21  \n",
       "16               22  \n",
       "42               23  \n",
       "35               23  \n",
       "41               25  \n",
       "20               26  \n",
       "26               27  \n",
       "3                28  \n",
       "2                29  \n",
       "5                30  \n",
       "40               31  \n",
       "30               32  \n",
       "25               33  \n",
       "0                34  \n",
       "10               35  \n",
       "15               36  \n",
       "44               37  \n",
       "39               38  \n",
       "29               39  \n",
       "19               40  \n",
       "34               41  \n",
       "9                42  \n",
       "14               43  \n",
       "24               44  \n",
       "4                45  "
      ]
     },
     "execution_count": 25,
     "metadata": {},
     "output_type": "execute_result"
    }
   ],
   "source": [
    "pd.DataFrame(clf.cv_results_).sort_values(by=\"rank_test_score\")"
   ]
  },
  {
   "cell_type": "code",
   "execution_count": 26,
   "metadata": {},
   "outputs": [
    {
     "data": {
      "text/plain": [
       "array([1, 0, 0, 0, 0, 1, 0, 0, 1, 0, 0, 0, 1, 0, 0, 0, 0, 0, 1, 0, 0, 0,\n",
       "       0, 0, 1, 1, 0, 0, 0, 0, 1, 1, 1, 1, 0, 1, 1, 1, 0, 1, 0, 0, 0, 1,\n",
       "       0, 0, 1, 0, 0, 1, 0, 1, 1, 1, 0, 0, 0, 0, 0, 1, 1, 0, 1, 1, 0, 0,\n",
       "       0, 1, 0, 1, 1, 0, 0, 0, 0, 0, 0, 0, 0, 0, 1, 0, 0, 0, 0, 1, 1, 1,\n",
       "       0, 0, 0, 0, 0, 1, 0, 0, 0, 0, 1, 0, 0, 0, 1, 1, 1, 0, 0, 1, 0, 1,\n",
       "       0, 1, 0, 1, 0, 0, 0, 0, 0, 0, 0, 0, 1, 0, 0, 1, 1, 1, 1, 1, 1, 1,\n",
       "       0, 1, 1, 0, 1, 1, 1, 0, 0, 0, 0, 0, 0, 0, 1, 0, 0, 1, 0, 0, 1, 0],\n",
       "      dtype=int64)"
      ]
     },
     "execution_count": 26,
     "metadata": {},
     "output_type": "execute_result"
    }
   ],
   "source": [
    "clf.predict(X_test)"
   ]
  },
  {
   "cell_type": "code",
   "execution_count": 27,
   "metadata": {},
   "outputs": [
    {
     "data": {
      "text/plain": [
       "0.8701298701298701"
      ]
     },
     "execution_count": 27,
     "metadata": {},
     "output_type": "execute_result"
    }
   ],
   "source": [
    "clf.score(X_test, y_test)"
   ]
  },
  {
   "cell_type": "code",
   "execution_count": 115,
   "metadata": {},
   "outputs": [
    {
     "data": {
      "text/plain": [
       "array([ 8, 18, 19, 10, 13, 14,  6, 10,  5, 18])"
      ]
     },
     "execution_count": 115,
     "metadata": {},
     "output_type": "execute_result"
    }
   ],
   "source": [
    "max_depth = np.random.randint(3, 20, 10)\n",
    "max_depth"
   ]
  },
  {
   "cell_type": "code",
   "execution_count": 116,
   "metadata": {},
   "outputs": [
    {
     "data": {
      "text/plain": [
       "DecisionTreeClassifier(max_depth=11, random_state=42)"
      ]
     },
     "execution_count": 116,
     "metadata": {},
     "output_type": "execute_result"
    }
   ],
   "source": [
    "model"
   ]
  },
  {
   "cell_type": "code",
   "execution_count": 117,
   "metadata": {},
   "outputs": [
    {
     "data": {
      "text/plain": [
       "array([0.83633038, 0.74861265, 0.71181176, 0.85269683, 0.95195991,\n",
       "       0.75341538, 0.73221991, 0.94337832, 0.90571922, 0.87123332,\n",
       "       0.88308028, 0.99367913, 0.97570684, 0.88508579, 0.90183762,\n",
       "       0.75223933, 0.92925939, 0.8839033 , 0.84176124, 0.85353983,\n",
       "       0.82520951, 0.88708558, 0.96912671, 0.73059442, 0.83919151,\n",
       "       0.78138839, 0.84915435, 0.92089009, 0.83009842, 0.83457783,\n",
       "       0.98973822, 0.81104631, 0.95540852, 0.70155893, 0.73061245,\n",
       "       0.71429022, 0.76176758, 0.82724944, 0.84460289, 0.85852034,\n",
       "       0.94481893, 0.75548946, 0.90187789, 0.96232807, 0.73846432,\n",
       "       0.91087977, 0.81558147, 0.84043473, 0.70017115, 0.82739081,\n",
       "       0.85837847, 0.90063412, 0.79525192, 0.72388785, 0.79401141,\n",
       "       0.94849393, 0.91779715, 0.80146292, 0.83286969, 0.70630098,\n",
       "       0.71691762, 0.87941031, 0.85340817, 0.91608303, 0.71968535,\n",
       "       0.9200284 , 0.82432293, 0.79807953, 0.98080701, 0.93569835,\n",
       "       0.79251217, 0.87684899, 0.8311416 , 0.93787954, 0.9766269 ,\n",
       "       0.75279267, 0.99814488, 0.99203107, 0.8419284 , 0.83767991,\n",
       "       0.7681089 , 0.76108609, 0.76436629, 0.90993717, 0.79458491,\n",
       "       0.97267324, 0.88036718, 0.90801791, 0.92587761, 0.70973154,\n",
       "       0.91066687, 0.86564976, 0.99773079, 0.89383566, 0.76265594,\n",
       "       0.73660555, 0.77350378, 0.90907644, 0.90645984, 0.95212688])"
      ]
     },
     "execution_count": 117,
     "metadata": {},
     "output_type": "execute_result"
    }
   ],
   "source": [
    "max_features = np.random.uniform(0.7, 1.0, 100)\n",
    "max_features"
   ]
  },
  {
   "cell_type": "code",
   "execution_count": 118,
   "metadata": {},
   "outputs": [
    {
     "data": {
      "text/plain": [
       "{'max_depth': array([ 8, 18, 19, 10, 13, 14,  6, 10,  5, 18]),\n",
       " 'max_features': array([0.83633038, 0.74861265, 0.71181176, 0.85269683, 0.95195991,\n",
       "        0.75341538, 0.73221991, 0.94337832, 0.90571922, 0.87123332,\n",
       "        0.88308028, 0.99367913, 0.97570684, 0.88508579, 0.90183762,\n",
       "        0.75223933, 0.92925939, 0.8839033 , 0.84176124, 0.85353983,\n",
       "        0.82520951, 0.88708558, 0.96912671, 0.73059442, 0.83919151,\n",
       "        0.78138839, 0.84915435, 0.92089009, 0.83009842, 0.83457783,\n",
       "        0.98973822, 0.81104631, 0.95540852, 0.70155893, 0.73061245,\n",
       "        0.71429022, 0.76176758, 0.82724944, 0.84460289, 0.85852034,\n",
       "        0.94481893, 0.75548946, 0.90187789, 0.96232807, 0.73846432,\n",
       "        0.91087977, 0.81558147, 0.84043473, 0.70017115, 0.82739081,\n",
       "        0.85837847, 0.90063412, 0.79525192, 0.72388785, 0.79401141,\n",
       "        0.94849393, 0.91779715, 0.80146292, 0.83286969, 0.70630098,\n",
       "        0.71691762, 0.87941031, 0.85340817, 0.91608303, 0.71968535,\n",
       "        0.9200284 , 0.82432293, 0.79807953, 0.98080701, 0.93569835,\n",
       "        0.79251217, 0.87684899, 0.8311416 , 0.93787954, 0.9766269 ,\n",
       "        0.75279267, 0.99814488, 0.99203107, 0.8419284 , 0.83767991,\n",
       "        0.7681089 , 0.76108609, 0.76436629, 0.90993717, 0.79458491,\n",
       "        0.97267324, 0.88036718, 0.90801791, 0.92587761, 0.70973154,\n",
       "        0.91066687, 0.86564976, 0.99773079, 0.89383566, 0.76265594,\n",
       "        0.73660555, 0.77350378, 0.90907644, 0.90645984, 0.95212688]),\n",
       " 'min_samples_split': [2, 3, 4, 5, 6]}"
      ]
     },
     "execution_count": 118,
     "metadata": {},
     "output_type": "execute_result"
    }
   ],
   "source": [
    "param_distributions = {\"max_depth\" : max_depth, \n",
    "                       \"max_features\" : max_features, \n",
    "                       \"min_samples_split\" : list(range(2, 7))}\n",
    "param_distributions"
   ]
  },
  {
   "cell_type": "code",
   "execution_count": 128,
   "metadata": {},
   "outputs": [
    {
     "data": {
      "text/plain": [
       "RandomizedSearchCV(cv=5,\n",
       "                   estimator=DecisionTreeClassifier(max_depth=11,\n",
       "                                                    random_state=42),\n",
       "                   n_iter=1000, n_jobs=-1,\n",
       "                   param_distributions={'max_depth': array([ 8, 18, 19, 10, 13, 14,  6, 10,  5, 18]),\n",
       "                                        'max_features': array([0.83633038, 0.74861265, 0.71181176, 0.85269683, 0.95195991,\n",
       "       0.75341538, 0.73221991, 0.94337832, 0.90571922, 0.87123332,\n",
       "       0.88308028, 0.99367913, 0.97570684, 0.88508...\n",
       "       0.79251217, 0.87684899, 0.8311416 , 0.93787954, 0.9766269 ,\n",
       "       0.75279267, 0.99814488, 0.99203107, 0.8419284 , 0.83767991,\n",
       "       0.7681089 , 0.76108609, 0.76436629, 0.90993717, 0.79458491,\n",
       "       0.97267324, 0.88036718, 0.90801791, 0.92587761, 0.70973154,\n",
       "       0.91066687, 0.86564976, 0.99773079, 0.89383566, 0.76265594,\n",
       "       0.73660555, 0.77350378, 0.90907644, 0.90645984, 0.95212688]),\n",
       "                                        'min_samples_split': [2, 3, 4, 5, 6]},\n",
       "                   random_state=42, scoring='accuracy')"
      ]
     },
     "execution_count": 128,
     "metadata": {},
     "output_type": "execute_result"
    }
   ],
   "source": [
    "from sklearn.model_selection import RandomizedSearchCV\n",
    "\n",
    "clf = RandomizedSearchCV( model,\n",
    "                    param_distributions,\n",
    "                    n_iter=1000,\n",
    "                    scoring=\"accuracy\",\n",
    "                    n_jobs=-1,\n",
    "                    cv=5,\n",
    "                    random_state=42\n",
    "                  )\n",
    "clf.fit(X_train, y_train)"
   ]
  },
  {
   "cell_type": "code",
   "execution_count": 129,
   "metadata": {},
   "outputs": [
    {
     "data": {
      "text/plain": [
       "{'min_samples_split': 4, 'max_features': 0.8311416041491986, 'max_depth': 10}"
      ]
     },
     "execution_count": 129,
     "metadata": {},
     "output_type": "execute_result"
    }
   ],
   "source": [
    "clf.best_params_"
   ]
  },
  {
   "cell_type": "code",
   "execution_count": 130,
   "metadata": {},
   "outputs": [
    {
     "data": {
      "text/plain": [
       "0.8713847794215648"
      ]
     },
     "execution_count": 130,
     "metadata": {},
     "output_type": "execute_result"
    }
   ],
   "source": [
    "clf.best_score_"
   ]
  },
  {
   "cell_type": "code",
   "execution_count": 131,
   "metadata": {},
   "outputs": [
    {
     "data": {
      "text/plain": [
       "0.8571428571428571"
      ]
     },
     "execution_count": 131,
     "metadata": {},
     "output_type": "execute_result"
    }
   ],
   "source": [
    "clf.score(X_test, y_test)"
   ]
  },
  {
   "cell_type": "code",
   "execution_count": 132,
   "metadata": {},
   "outputs": [
    {
     "data": {
      "text/html": [
       "<div>\n",
       "<style scoped>\n",
       "    .dataframe tbody tr th:only-of-type {\n",
       "        vertical-align: middle;\n",
       "    }\n",
       "\n",
       "    .dataframe tbody tr th {\n",
       "        vertical-align: top;\n",
       "    }\n",
       "\n",
       "    .dataframe thead th {\n",
       "        text-align: right;\n",
       "    }\n",
       "</style>\n",
       "<table border=\"1\" class=\"dataframe\">\n",
       "  <thead>\n",
       "    <tr style=\"text-align: right;\">\n",
       "      <th></th>\n",
       "      <th>mean_fit_time</th>\n",
       "      <th>std_fit_time</th>\n",
       "      <th>mean_score_time</th>\n",
       "      <th>std_score_time</th>\n",
       "      <th>param_min_samples_split</th>\n",
       "      <th>param_max_features</th>\n",
       "      <th>param_max_depth</th>\n",
       "      <th>params</th>\n",
       "      <th>split0_test_score</th>\n",
       "      <th>split1_test_score</th>\n",
       "      <th>split2_test_score</th>\n",
       "      <th>split3_test_score</th>\n",
       "      <th>split4_test_score</th>\n",
       "      <th>mean_test_score</th>\n",
       "      <th>std_test_score</th>\n",
       "      <th>rank_test_score</th>\n",
       "    </tr>\n",
       "  </thead>\n",
       "  <tbody>\n",
       "    <tr>\n",
       "      <th>772</th>\n",
       "      <td>0.004994</td>\n",
       "      <td>0.002535</td>\n",
       "      <td>0.001907</td>\n",
       "      <td>0.000196</td>\n",
       "      <td>4</td>\n",
       "      <td>0.824323</td>\n",
       "      <td>10</td>\n",
       "      <td>{'min_samples_split': 4, 'max_features': 0.824...</td>\n",
       "      <td>0.910569</td>\n",
       "      <td>0.886179</td>\n",
       "      <td>0.813008</td>\n",
       "      <td>0.845528</td>\n",
       "      <td>0.901639</td>\n",
       "      <td>0.871385</td>\n",
       "      <td>0.036731</td>\n",
       "      <td>1</td>\n",
       "    </tr>\n",
       "    <tr>\n",
       "      <th>813</th>\n",
       "      <td>0.004800</td>\n",
       "      <td>0.000981</td>\n",
       "      <td>0.010588</td>\n",
       "      <td>0.018191</td>\n",
       "      <td>4</td>\n",
       "      <td>0.841761</td>\n",
       "      <td>10</td>\n",
       "      <td>{'min_samples_split': 4, 'max_features': 0.841...</td>\n",
       "      <td>0.910569</td>\n",
       "      <td>0.886179</td>\n",
       "      <td>0.813008</td>\n",
       "      <td>0.845528</td>\n",
       "      <td>0.901639</td>\n",
       "      <td>0.871385</td>\n",
       "      <td>0.036731</td>\n",
       "      <td>1</td>\n",
       "    </tr>\n",
       "    <tr>\n",
       "      <th>668</th>\n",
       "      <td>0.004223</td>\n",
       "      <td>0.000543</td>\n",
       "      <td>0.002096</td>\n",
       "      <td>0.001017</td>\n",
       "      <td>4</td>\n",
       "      <td>0.876849</td>\n",
       "      <td>10</td>\n",
       "      <td>{'min_samples_split': 4, 'max_features': 0.876...</td>\n",
       "      <td>0.910569</td>\n",
       "      <td>0.886179</td>\n",
       "      <td>0.813008</td>\n",
       "      <td>0.845528</td>\n",
       "      <td>0.901639</td>\n",
       "      <td>0.871385</td>\n",
       "      <td>0.036731</td>\n",
       "      <td>1</td>\n",
       "    </tr>\n",
       "    <tr>\n",
       "      <th>481</th>\n",
       "      <td>0.004000</td>\n",
       "      <td>0.000013</td>\n",
       "      <td>0.001603</td>\n",
       "      <td>0.000792</td>\n",
       "      <td>4</td>\n",
       "      <td>0.86565</td>\n",
       "      <td>10</td>\n",
       "      <td>{'min_samples_split': 4, 'max_features': 0.865...</td>\n",
       "      <td>0.910569</td>\n",
       "      <td>0.886179</td>\n",
       "      <td>0.813008</td>\n",
       "      <td>0.845528</td>\n",
       "      <td>0.901639</td>\n",
       "      <td>0.871385</td>\n",
       "      <td>0.036731</td>\n",
       "      <td>1</td>\n",
       "    </tr>\n",
       "    <tr>\n",
       "      <th>887</th>\n",
       "      <td>0.004096</td>\n",
       "      <td>0.000669</td>\n",
       "      <td>0.001901</td>\n",
       "      <td>0.000497</td>\n",
       "      <td>4</td>\n",
       "      <td>0.815581</td>\n",
       "      <td>10</td>\n",
       "      <td>{'min_samples_split': 4, 'max_features': 0.815...</td>\n",
       "      <td>0.910569</td>\n",
       "      <td>0.886179</td>\n",
       "      <td>0.813008</td>\n",
       "      <td>0.845528</td>\n",
       "      <td>0.901639</td>\n",
       "      <td>0.871385</td>\n",
       "      <td>0.036731</td>\n",
       "      <td>1</td>\n",
       "    </tr>\n",
       "  </tbody>\n",
       "</table>\n",
       "</div>"
      ],
      "text/plain": [
       "     mean_fit_time  std_fit_time  mean_score_time  std_score_time  \\\n",
       "772       0.004994      0.002535         0.001907        0.000196   \n",
       "813       0.004800      0.000981         0.010588        0.018191   \n",
       "668       0.004223      0.000543         0.002096        0.001017   \n",
       "481       0.004000      0.000013         0.001603        0.000792   \n",
       "887       0.004096      0.000669         0.001901        0.000497   \n",
       "\n",
       "    param_min_samples_split param_max_features param_max_depth  \\\n",
       "772                       4           0.824323              10   \n",
       "813                       4           0.841761              10   \n",
       "668                       4           0.876849              10   \n",
       "481                       4            0.86565              10   \n",
       "887                       4           0.815581              10   \n",
       "\n",
       "                                                params  split0_test_score  \\\n",
       "772  {'min_samples_split': 4, 'max_features': 0.824...           0.910569   \n",
       "813  {'min_samples_split': 4, 'max_features': 0.841...           0.910569   \n",
       "668  {'min_samples_split': 4, 'max_features': 0.876...           0.910569   \n",
       "481  {'min_samples_split': 4, 'max_features': 0.865...           0.910569   \n",
       "887  {'min_samples_split': 4, 'max_features': 0.815...           0.910569   \n",
       "\n",
       "     split1_test_score  split2_test_score  split3_test_score  \\\n",
       "772           0.886179           0.813008           0.845528   \n",
       "813           0.886179           0.813008           0.845528   \n",
       "668           0.886179           0.813008           0.845528   \n",
       "481           0.886179           0.813008           0.845528   \n",
       "887           0.886179           0.813008           0.845528   \n",
       "\n",
       "     split4_test_score  mean_test_score  std_test_score  rank_test_score  \n",
       "772           0.901639         0.871385        0.036731                1  \n",
       "813           0.901639         0.871385        0.036731                1  \n",
       "668           0.901639         0.871385        0.036731                1  \n",
       "481           0.901639         0.871385        0.036731                1  \n",
       "887           0.901639         0.871385        0.036731                1  "
      ]
     },
     "execution_count": 132,
     "metadata": {},
     "output_type": "execute_result"
    }
   ],
   "source": [
    "pd.DataFrame(clf.cv_results_).sort_values(by=\"rank_test_score\").head()"
   ]
  },
  {
   "cell_type": "markdown",
   "metadata": {},
   "source": [
    "# 정확도(Accuracy)측정하기"
   ]
  },
  {
   "cell_type": "code",
   "execution_count": 28,
   "metadata": {},
   "outputs": [
    {
     "data": {
      "text/plain": [
       "23"
      ]
     },
     "execution_count": 28,
     "metadata": {},
     "output_type": "execute_result"
    }
   ],
   "source": [
    "# 다르게 예측한 개수를 구해서 diff_count 에 할당해 줍니다.\n",
    "\n",
    "abs(y_predict - y_test).sum()"
   ]
  },
  {
   "cell_type": "code",
   "execution_count": 29,
   "metadata": {},
   "outputs": [
    {
     "data": {
      "text/plain": [
       "85.06493506493507"
      ]
     },
     "execution_count": 29,
     "metadata": {},
     "output_type": "execute_result"
    }
   ],
   "source": [
    "# accuracy score 를 구합니다.\n",
    "\n",
    "from sklearn.metrics import accuracy_score\n",
    "\n",
    "accuracy_score(y_test, y_predict) * 100"
   ]
  },
  {
   "cell_type": "code",
   "execution_count": null,
   "metadata": {},
   "outputs": [],
   "source": []
  },
  {
   "cell_type": "markdown",
   "metadata": {},
   "source": [
    "# 머신러닝 알고리즘 가져오기"
   ]
  },
  {
   "cell_type": "code",
   "execution_count": null,
   "metadata": {},
   "outputs": [],
   "source": [
    "from sklearn.tree import DecisionTreeClassifier\n",
    "\n",
    "model = DecisionTreeClassifier(, random_state=42)\n",
    "model"
   ]
  },
  {
   "cell_type": "markdown",
   "metadata": {},
   "source": [
    "# 학습(훈련)\n",
    "   + 시험을 볼 때 기출문제(X_train)와 정답(y_train)을 보고 공부하는 과정과 유사합니다."
   ]
  },
  {
   "cell_type": "code",
   "execution_count": null,
   "metadata": {},
   "outputs": [],
   "source": [
    "model.fit(X_train, y_train)"
   ]
  },
  {
   "cell_type": "markdown",
   "metadata": {},
   "source": [
    "# 예측\n",
    "   + 실전 시험문제(X_test)라고 보면 됩니다. 우리가 정답을 직접 예측합니다."
   ]
  },
  {
   "cell_type": "code",
   "execution_count": null,
   "metadata": {},
   "outputs": [],
   "source": [
    "y_predict = model.predict(X_test)\n",
    "y_predict[:5]"
   ]
  },
  {
   "cell_type": "markdown",
   "metadata": {},
   "source": [
    "# 트리 알고리즘 분석하기\n",
    "   + 의사결정나무를 시각화합니다."
   ]
  },
  {
   "cell_type": "code",
   "execution_count": null,
   "metadata": {
    "scrolled": false
   },
   "outputs": [],
   "source": [
    "from sklearn.tree import plot_tree\n",
    "\n",
    "plt.figure(figsize=(20,20))\n",
    "tree = plot_tree(model,\n",
    "                 feature_names=feature_names,\n",
    "                 filled=True,\n",
    "                 fontsize=10)"
   ]
  },
  {
   "cell_type": "code",
   "execution_count": null,
   "metadata": {
    "scrolled": false
   },
   "outputs": [],
   "source": [
    "# graphviz 를 통해 시각화합니다.\n",
    "# graphviz 는 별도의 설치가 필요합니다.\n",
    "# graphviz 와 파이썬에서 graphviz 를 사용할 수 있게 해주는 도구 2가지를 설치해주셔야 합니다.\n",
    "import graphviz\n",
    "from sklearn.tree import export_graphviz\n",
    "\n",
    "dot_tree = export_graphviz(model,\n",
    "                            feature_names = feature_names,\n",
    "                            filled=True)\n",
    "graphviz.Source(dot_tree)"
   ]
  },
  {
   "cell_type": "code",
   "execution_count": null,
   "metadata": {},
   "outputs": [],
   "source": [
    "# 피처의 중요도를 추출하기\n",
    "\n",
    "model.feature_importances_"
   ]
  },
  {
   "cell_type": "code",
   "execution_count": null,
   "metadata": {},
   "outputs": [],
   "source": [
    "# 피처의 중요도 시각화하기\n",
    "\n",
    "sns.barplot(x=model.feature_importances_, y = feature_names)"
   ]
  },
  {
   "cell_type": "markdown",
   "metadata": {},
   "source": []
  },
  {
   "cell_type": "code",
   "execution_count": null,
   "metadata": {},
   "outputs": [],
   "source": [
    "# 실제값 - 예측값을 빼주면 같은 값은 0으로 나오게 됩니다.\n",
    "# 여기에서 절대값을 씌운 값이 1인 값이 다르게 예측한 값이 됩니다.\n",
    "# 44 => 39(Pregnancies_high) => 49(나이25세 기준) => 55(나이30세 기준)) \n",
    "# => 23(인슐린 결측치를 평균으로 대체) => 16(인슐린 결측치를 중앙값으로 대체)\n",
    "# 15(파생변수 low_glu_insulin 추가)\n",
    "# => 15(인슐린 수치 600 이상 제거)\n",
    "# => 15(Glucose, DiabetesPedigreeFunction 스케일링)\n",
    "diff_count = abs(y_test - y_predict).sum() \n",
    "diff_count"
   ]
  },
  {
   "cell_type": "code",
   "execution_count": null,
   "metadata": {},
   "outputs": [],
   "source": [
    "# 예측의 정확도를 구합니다. 100점 만점에 몇 점을 맞았는지 구한다고 보면 됩니다.\n",
    "\n",
    "(len(y_test) - diff_count) / len(y_test) * 100"
   ]
  },
  {
   "cell_type": "code",
   "execution_count": null,
   "metadata": {},
   "outputs": [],
   "source": [
    "# 위에서 처럼 직접 구할 수도 있지만 미리 구현된 알고리즘을 가져와 사용합니다.\n",
    "\n",
    "from sklearn.metrics import accuracy_score\n",
    "\n",
    "accuracy_score(y_test, y_predict) * 100"
   ]
  },
  {
   "cell_type": "code",
   "execution_count": null,
   "metadata": {},
   "outputs": [],
   "source": [
    "# model 의 score 로 점수를 계산합니다.\n",
    "\n",
    "model.score(X_test,y_test)"
   ]
  },
  {
   "cell_type": "code",
   "execution_count": null,
   "metadata": {},
   "outputs": [],
   "source": []
  }
 ],
 "metadata": {
  "kernelspec": {
   "display_name": "Python 3",
   "language": "python",
   "name": "python3"
  },
  "language_info": {
   "codemirror_mode": {
    "name": "ipython",
    "version": 3
   },
   "file_extension": ".py",
   "mimetype": "text/x-python",
   "name": "python",
   "nbconvert_exporter": "python",
   "pygments_lexer": "ipython3",
   "version": "3.8.3"
  },
  "toc": {
   "base_numbering": 1,
   "nav_menu": {},
   "number_sections": true,
   "sideBar": true,
   "skip_h1_title": false,
   "title_cell": "Table of Contents",
   "title_sidebar": "Contents",
   "toc_cell": false,
   "toc_position": {
    "height": "calc(100% - 180px)",
    "left": "10px",
    "top": "150px",
    "width": "191.594px"
   },
   "toc_section_display": true,
   "toc_window_display": false
  }
 },
 "nbformat": 4,
 "nbformat_minor": 4
}
